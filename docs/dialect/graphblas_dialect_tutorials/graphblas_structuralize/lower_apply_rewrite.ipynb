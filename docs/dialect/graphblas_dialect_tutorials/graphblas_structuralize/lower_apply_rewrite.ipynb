{
 "cells": [
  {
   "cell_type": "markdown",
   "id": "01ea7794",
   "metadata": {},
   "source": [
    "# Lowering `graphblas.apply` to Generic Form\n",
    "\n",
    "This example will go over how to use the `--graphblas-structuralize` pass from `graphblas-opt` to lower `graphblas.apply` ops to `graphblas.apply_generic` ops.\n",
    "\n",
    "`graphblas.apply` ops specify behavior via the `apply_operator` attribute. The `--graphblas-structuralize` pass will lower those ops into equivalent `graphblas.apply_generic` ops with blocks specifying the behavior indicated by those `apply_operator` attribute values.\n",
    "\n",
    "Let's first import some necessary libraries."
   ]
  },
  {
   "cell_type": "code",
   "execution_count": 9,
   "id": "c6dfc765",
   "metadata": {},
   "outputs": [],
   "source": [
    "import tempfile\n",
    "from mlir_graphblas.cli import GRAPHBLAS_OPT_EXE"
   ]
  },
  {
   "cell_type": "markdown",
   "id": "86ef189e",
   "metadata": {},
   "source": [
    "Since [sparse tensor encodings](https://mlir.llvm.org/docs/Dialects/SparseTensorOps/#sparsetensorencodingattr) can be very verbose in MLIR, let's import some helpers to make the MLIR code more readable."
   ]
  },
  {
   "cell_type": "code",
   "execution_count": 10,
   "id": "4233b87f",
   "metadata": {},
   "outputs": [],
   "source": [
    "from mlir_graphblas.tools import tersify_mlir"
   ]
  },
  {
   "cell_type": "markdown",
   "id": "7db75a69",
   "metadata": {},
   "source": [
    "## Example\n",
    "\n",
    "Here's some example `graphblas.apply` code using the additive inverse operator. "
   ]
  },
  {
   "cell_type": "code",
   "execution_count": 11,
   "id": "b4a6fbea",
   "metadata": {},
   "outputs": [],
   "source": [
    "mlir_text = \"\"\"\n",
    "#SparseVec64 = #sparse_tensor.encoding<{\n",
    "  dimLevelType = [ \"compressed\" ],\n",
    "  pointerBitWidth = 64,\n",
    "  indexBitWidth = 64\n",
    "}>\n",
    "\n",
    "module {\n",
    "\n",
    "    func @apply_vector_ainv(%sparse_tensor: tensor<3xi64, #SparseVec64>) -> tensor<3xi64, #SparseVec64> {\n",
    "        %answer = graphblas.apply %sparse_tensor { apply_operator = \"ainv\" } : (tensor<3xi64, #SparseVec64>) to tensor<3xi64, #SparseVec64>\n",
    "        return %answer : tensor<3xi64, #SparseVec64>\n",
    "    }\n",
    "\n",
    "\n",
    "}\n",
    "\"\"\""
   ]
  },
  {
   "cell_type": "markdown",
   "id": "6db32140",
   "metadata": {},
   "source": [
    "Let's see what code we get when we run it through `graphblas-opt` with the `--graphblas-structuralize` pass."
   ]
  },
  {
   "cell_type": "code",
   "execution_count": 12,
   "id": "b54ca16c",
   "metadata": {},
   "outputs": [
    {
     "name": "stdout",
     "output_type": "stream",
     "text": [
      "#SparseVec64 = #sparse_tensor.encoding<{ \n",
      "    dimLevelType = [ \"compressed\" ], \n",
      "    pointerBitWidth = 64, \n",
      "    indexBitWidth = 64 \n",
      "}>\n",
      "\n",
      "builtin.module  {\n",
      "  builtin.func @apply_vector_ainv(%arg0: tensor<3xi64, #SparseVec64>) -> tensor<3xi64, #SparseVec64> {\n",
      "    %c0_i64 = constant 0 : i64\n",
      "    %0 = graphblas.apply_generic %arg0 : tensor<3xi64, #SparseVec64> to tensor<3xi64, #SparseVec64>  {\n",
      "    ^bb0(%arg1: i64):  // no predecessors\n",
      "      %1 = subi %c0_i64, %arg1 : i64\n",
      "      graphblas.yield transform_out %1 : i64\n",
      "    }\n",
      "    return %0 : tensor<3xi64, #SparseVec64>\n",
      "  }\n",
      "}\n",
      "\n",
      "\n"
     ]
    }
   ],
   "source": [
    "with tempfile.NamedTemporaryFile() as temp:\n",
    "    temp_file_name = temp.name\n",
    "    with open(temp_file_name, 'w') as f:\n",
    "        f.write(mlir_text)\n",
    "    temp.flush()\n",
    "\n",
    "    output_mlir = ! cat $temp_file_name | $GRAPHBLAS_OPT_EXE --graphblas-structuralize\n",
    "    output_mlir = \"\\n\".join(output_mlir)\n",
    "    output_mlir = tersify_mlir(output_mlir)\n",
    "\n",
    "print(output_mlir)"
   ]
  },
  {
   "cell_type": "markdown",
   "id": "2c6c42da",
   "metadata": {},
   "source": [
    "As shown above, `--graphblas-structuralize` expanded the \"ainv\" operator into blocks performing that exact behavior.\n",
    "\n",
    "We'll leave exploring how the other operator values expand as an exercise for the reader."
   ]
  }
 ],
 "metadata": {
  "kernelspec": {
   "display_name": "Python 3 (ipykernel)",
   "language": "python",
   "name": "python3"
  },
  "language_info": {
   "codemirror_mode": {
    "name": "ipython",
    "version": 3
   },
   "file_extension": ".py",
   "mimetype": "text/x-python",
   "name": "python",
   "nbconvert_exporter": "python",
   "pygments_lexer": "ipython3",
   "version": "3.8.10"
  }
 },
 "nbformat": 4,
 "nbformat_minor": 5
}
