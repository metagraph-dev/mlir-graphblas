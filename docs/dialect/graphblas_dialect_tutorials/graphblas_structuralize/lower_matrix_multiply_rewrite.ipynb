{
 "cells": [
  {
   "cell_type": "markdown",
   "id": "01ea7794",
   "metadata": {},
   "source": [
    "# Lowering `graphblas.matrix_multiply` to Generic Form\n",
    "\n",
    "This example will go over how to use the `--graphblas-structuralize` pass from `graphblas-opt` to lower `graphblas.matrix_multiply` ops to `graphblas.matrix_multiply_generic` ops.\n",
    "\n",
    "`graphblas.matrix_multiply` ops specify the behavior of a matrix multiplication via semiring attributes. The `--graphblas-structuralize` pass will lower those ops into equivalent `graphblas.matrix_multiply_generic` ops with blocks specifying the behavior indicated by those semirings.\n",
    "\n",
    "Let's first import some necessary libraries."
   ]
  },
  {
   "cell_type": "code",
   "execution_count": 5,
   "id": "c6dfc765",
   "metadata": {},
   "outputs": [],
   "source": [
    "import tempfile\n",
    "from mlir_graphblas.cli import GRAPHBLAS_OPT_EXE"
   ]
  },
  {
   "cell_type": "markdown",
   "id": "86ef189e",
   "metadata": {},
   "source": [
    "Since [sparse tensor encodings](https://mlir.llvm.org/docs/Dialects/SparseTensorOps/#sparsetensorencodingattr) can be very verbose in MLIR, let's import some helpers to make the MLIR code more readable."
   ]
  },
  {
   "cell_type": "code",
   "execution_count": 6,
   "id": "4233b87f",
   "metadata": {},
   "outputs": [],
   "source": [
    "from mlir_graphblas.tools import tersify_mlir"
   ]
  },
  {
   "cell_type": "markdown",
   "id": "7db75a69",
   "metadata": {},
   "source": [
    "## Example\n",
    "\n",
    "Here's some example `graphblas.matrix_multiply` code using the \"min_plus\" semiring. "
   ]
  },
  {
   "cell_type": "code",
   "execution_count": 7,
   "id": "b4a6fbea",
   "metadata": {},
   "outputs": [],
   "source": [
    "mlir_text = \"\"\"\n",
    "#CSR64 = #sparse_tensor.encoding<{\n",
    "  dimLevelType = [ \"dense\", \"compressed\" ],\n",
    "  dimOrdering = affine_map<(i,j) -> (i,j)>,\n",
    "  pointerBitWidth = 64,\n",
    "  indexBitWidth = 64\n",
    "}>\n",
    "\n",
    "#CSC64 = #sparse_tensor.encoding<{\n",
    "  dimLevelType = [ \"dense\", \"compressed\" ],\n",
    "  dimOrdering = affine_map<(i,j) -> (j,i)>,\n",
    "  pointerBitWidth = 64,\n",
    "  indexBitWidth = 64\n",
    "}>\n",
    "\n",
    "func @mat_mul(%argA: tensor<?x?xf64, #CSR64>, %argB: tensor<?x?xf64, #CSC64>) -> tensor<?x?xf64, #CSR64> {\n",
    "    %answer = graphblas.matrix_multiply %argA, %argB { semiring = \"min_plus\" } : (tensor<?x?xf64, #CSR64>, tensor<?x?xf64, #CSC64>) to tensor<?x?xf64, #CSR64>\n",
    "    return %answer : tensor<?x?xf64, #CSR64>\n",
    "}\n",
    "\"\"\""
   ]
  },
  {
   "cell_type": "markdown",
   "id": "6db32140",
   "metadata": {},
   "source": [
    "Let's see what code we get when we run it through `graphblas-opt` with the `--graphblas-structuralize` pass."
   ]
  },
  {
   "cell_type": "code",
   "execution_count": 8,
   "id": "b54ca16c",
   "metadata": {},
   "outputs": [
    {
     "name": "stdout",
     "output_type": "stream",
     "text": [
      "#CSC64 = #sparse_tensor.encoding<{ \n",
      "    dimLevelType = [ \"dense\", \"compressed\" ], \n",
      "    dimOrdering = affine_map<(d0, d1) -> (d1, d0)>, \n",
      "    pointerBitWidth = 64, \n",
      "    indexBitWidth = 64 \n",
      "}>\n",
      "\n",
      "#CSR64 = #sparse_tensor.encoding<{ \n",
      "    dimLevelType = [ \"dense\", \"compressed\" ], \n",
      "    dimOrdering = affine_map<(d0, d1) -> (d0, d1)>, \n",
      "    pointerBitWidth = 64, \n",
      "    indexBitWidth = 64 \n",
      "}>\n",
      "\n",
      "builtin.module  {\n",
      "  builtin.func @mat_mul(%arg0: tensor<?x?xf64, #CSR64>, %arg1: tensor<?x?xf64, #CSC64>) -> tensor<?x?xf64, #CSR64> {\n",
      "    %cst = constant 1.7976931348623157E+308 : f64\n",
      "    %0 = graphblas.matrix_multiply_generic %arg0, %arg1 {mask_complement = false} : (tensor<?x?xf64, #CSR64>, tensor<?x?xf64, #CSC64>) to tensor<?x?xf64, #CSR64>  {\n",
      "      graphblas.yield add_identity %cst : f64\n",
      "    },  {\n",
      "    ^bb0(%arg2: f64, %arg3: f64):  // no predecessors\n",
      "      %1 = cmpf olt, %arg2, %arg3 : f64\n",
      "      %2 = select %1, %arg2, %arg3 : f64\n",
      "      graphblas.yield add %2 : f64\n",
      "    },  {\n",
      "    ^bb0(%arg2: f64, %arg3: f64):  // no predecessors\n",
      "      %1 = addf %arg2, %arg3 : f64\n",
      "      graphblas.yield mult %1 : f64\n",
      "    }\n",
      "    return %0 : tensor<?x?xf64, #CSR64>\n",
      "  }\n",
      "}\n",
      "\n",
      "\n"
     ]
    }
   ],
   "source": [
    "with tempfile.NamedTemporaryFile() as temp:\n",
    "    temp_file_name = temp.name\n",
    "    with open(temp_file_name, 'w') as f:\n",
    "        f.write(mlir_text)\n",
    "    temp.flush()\n",
    "\n",
    "    output_mlir = ! cat $temp_file_name | $GRAPHBLAS_OPT_EXE --graphblas-structuralize\n",
    "    output_mlir = \"\\n\".join(output_mlir)\n",
    "    output_mlir = tersify_mlir(output_mlir)\n",
    "\n",
    "print(output_mlir)"
   ]
  },
  {
   "cell_type": "markdown",
   "id": "2c6c42da",
   "metadata": {},
   "source": [
    "As shown above, `--graphblas-structuralize` expanded the \"min_plus\" semiring into blocks performing that exact behavior.\n",
    "\n",
    "We'll leave exploring how the other semirings expand as an exercise for the reader."
   ]
  }
 ],
 "metadata": {
  "kernelspec": {
   "display_name": "Python 3 (ipykernel)",
   "language": "python",
   "name": "python3"
  },
  "language_info": {
   "codemirror_mode": {
    "name": "ipython",
    "version": 3
   },
   "file_extension": ".py",
   "mimetype": "text/x-python",
   "name": "python",
   "nbconvert_exporter": "python",
   "pygments_lexer": "ipython3",
   "version": "3.8.10"
  }
 },
 "nbformat": 4,
 "nbformat_minor": 5
}
