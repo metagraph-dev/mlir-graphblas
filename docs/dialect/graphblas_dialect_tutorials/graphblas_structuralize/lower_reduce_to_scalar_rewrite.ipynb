{
 "cells": [
  {
   "cell_type": "markdown",
   "id": "01ea7794",
   "metadata": {},
   "source": [
    "# Lowering `graphblas.reduce_to_scalar` to Generic Form\n",
    "\n",
    "This example will go over how to use the `--graphblas-structuralize` pass from `graphblas-opt` to lower `graphblas.reduce_to_scalar` ops to `graphblas.reduce_to_scalar_generic` ops.\n",
    "\n",
    "`graphblas.reduce_to_scalar` ops specify behavior via an aggregator attributes. The `--graphblas-structuralize` pass will lower those ops into equivalent `graphblas.reduce_to_scalar_generic` ops with blocks specifying the behavior indicated by those semirings.\n",
    "\n",
    "Let's first import some necessary libraries."
   ]
  },
  {
   "cell_type": "code",
   "execution_count": 1,
   "id": "c6dfc765",
   "metadata": {},
   "outputs": [
    {
     "name": "stderr",
     "output_type": "stream",
     "text": [
      "Using development graphblas-opt: /Users/pnguyen/code/mlir-graphblas/mlir_graphblas/src/build/bin/graphblas-opt\n"
     ]
    }
   ],
   "source": [
    "import tempfile\n",
    "from mlir_graphblas.cli import GRAPHBLAS_OPT_EXE"
   ]
  },
  {
   "cell_type": "markdown",
   "id": "86ef189e",
   "metadata": {},
   "source": [
    "Since [sparse tensor encodings](https://mlir.llvm.org/docs/Dialects/SparseTensorOps/#sparsetensorencodingattr) can be very verbose in MLIR, let's import some helpers to make the MLIR code more readable."
   ]
  },
  {
   "cell_type": "code",
   "execution_count": 2,
   "id": "4233b87f",
   "metadata": {},
   "outputs": [],
   "source": [
    "from mlir_graphblas.tools import tersify_mlir"
   ]
  },
  {
   "cell_type": "markdown",
   "id": "7db75a69",
   "metadata": {},
   "source": [
    "## Example\n",
    "\n",
    "Here's some example `graphblas.apply` code using the \"plus\" aggregator. "
   ]
  },
  {
   "cell_type": "code",
   "execution_count": 3,
   "id": "b4a6fbea",
   "metadata": {},
   "outputs": [],
   "source": [
    "mlir_text = \"\"\"\n",
    "#CSR64 = #sparse_tensor.encoding<{\n",
    "  dimLevelType = [ \"dense\", \"compressed\" ],\n",
    "  dimOrdering = affine_map<(i,j) -> (i,j)>,\n",
    "  pointerBitWidth = 64,\n",
    "  indexBitWidth = 64\n",
    "}>\n",
    "\n",
    "module {\n",
    "    func @matrix_reduce_to_scalar_plus(%sparse_tensor: tensor<2x3xi64, #CSR64>) -> i64 {\n",
    "        %answer = graphblas.reduce_to_scalar %sparse_tensor { aggregator = \"plus\" } : tensor<2x3xi64, #CSR64> to i64\n",
    "        return %answer : i64\n",
    "    }\n",
    "}\n",
    "\"\"\""
   ]
  },
  {
   "cell_type": "markdown",
   "id": "6db32140",
   "metadata": {},
   "source": [
    "Let's see what code we get when we run it through `graphblas-opt` with the `--graphblas-structuralize` pass."
   ]
  },
  {
   "cell_type": "code",
   "execution_count": 4,
   "id": "b54ca16c",
   "metadata": {},
   "outputs": [
    {
     "name": "stdout",
     "output_type": "stream",
     "text": [
      "#CSR64 = #sparse_tensor.encoding<{\n",
      "    dimLevelType = [ \"dense\", \"compressed\" ],\n",
      "    dimOrdering = affine_map<(d0, d1) -> (d0, d1)>,\n",
      "    pointerBitWidth = 64,\n",
      "    indexBitWidth = 64\n",
      "}>\n",
      "\n",
      "module {\n",
      "  func @matrix_reduce_to_scalar_plus(%arg0: tensor<2x3xi64, #CSR64>) -> i64 {\n",
      "    %c0_i64 = arith.constant 0 : i64\n",
      "    %0 = graphblas.reduce_to_scalar_generic %arg0 : tensor<2x3xi64, #CSR64> to i64 {\n",
      "      graphblas.yield agg_identity %c0_i64 : i64\n",
      "    }, {\n",
      "    ^bb0(%arg1: i64, %arg2: i64):\n",
      "      %1 = arith.addi %arg1, %arg2 : i64\n",
      "      graphblas.yield agg %1 : i64\n",
      "    }\n",
      "    return %0 : i64\n",
      "  }\n",
      "}\n",
      "\n",
      "\n"
     ]
    }
   ],
   "source": [
    "with tempfile.NamedTemporaryFile() as temp:\n",
    "    temp_file_name = temp.name\n",
    "    with open(temp_file_name, 'w') as f:\n",
    "        f.write(mlir_text)\n",
    "    temp.flush()\n",
    "\n",
    "    output_mlir = ! cat $temp_file_name | $GRAPHBLAS_OPT_EXE --graphblas-structuralize\n",
    "    output_mlir = \"\\n\".join(output_mlir)\n",
    "    output_mlir = tersify_mlir(output_mlir)\n",
    "\n",
    "print(output_mlir)"
   ]
  },
  {
   "cell_type": "markdown",
   "id": "2c6c42da",
   "metadata": {},
   "source": [
    "As shown above, `--graphblas-structuralize` expanded the \"plus\" aggregator into blocks performing that exact behavior.\n",
    "\n",
    "We'll leave exploring how the other aggregators expand as an exercise for the reader."
   ]
  }
 ],
 "metadata": {
  "kernelspec": {
   "display_name": "Python 3 (ipykernel)",
   "language": "python",
   "name": "python3"
  },
  "language_info": {
   "codemirror_mode": {
    "name": "ipython",
    "version": 3
   },
   "file_extension": ".py",
   "mimetype": "text/x-python",
   "name": "python",
   "nbconvert_exporter": "python",
   "pygments_lexer": "ipython3",
   "version": "3.8.12"
  }
 },
 "nbformat": 4,
 "nbformat_minor": 5
}
