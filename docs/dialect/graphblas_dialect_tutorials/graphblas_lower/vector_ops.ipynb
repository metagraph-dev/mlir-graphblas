{
 "cells": [
  {
   "cell_type": "markdown",
   "id": "5e37bc79",
   "metadata": {},
   "source": [
    "# Vector Ops\n",
    "\n",
    "This tutorial will go over how to use the `--graphblas-lower` pass from `graphblas-opt` to lower some ops from the GraphBLAS dialect that deal with vectors into executable Python code. There are many such ops. We'll focus on `graphblas.vector_argmin` and `graphblas.vector_argmax`.\n",
    "\n",
    "Since the [ops reference](../../ops_reference.rst) already documents these ops with examples, we'll only briefly describe them here. \n",
    "\n",
    "Let’s first import some necessary modules and generate an instance of our JIT engine."
   ]
  },
  {
   "cell_type": "code",
   "execution_count": 12,
   "id": "2e07aa14",
   "metadata": {},
   "outputs": [],
   "source": [
    "import mlir_graphblas\n",
    "import numpy as np\n",
    "from mlir_graphblas.tools.utils import sparsify_array, densify_vector\n",
    "\n",
    "engine = mlir_graphblas.MlirJitEngine()"
   ]
  },
  {
   "cell_type": "markdown",
   "id": "810ec81a",
   "metadata": {},
   "source": [
    "Here are the passes we'll use."
   ]
  },
  {
   "cell_type": "code",
   "execution_count": 13,
   "id": "a2e90887",
   "metadata": {},
   "outputs": [],
   "source": [
    "passes = [\n",
    "    \"--graphblas-lower\",\n",
    "    \"--sparsification\",\n",
    "    \"--sparse-tensor-conversion\",\n",
    "    \"--linalg-bufferize\",\n",
    "    \"--func-bufferize\",\n",
    "    \"--tensor-bufferize\",\n",
    "    \"--tensor-constant-bufferize\",\n",
    "    \"--finalizing-bufferize\",\n",
    "    \"--convert-linalg-to-loops\",\n",
    "    \"--convert-scf-to-std\",\n",
    "    \"--convert-memref-to-llvm\",\n",
    "    \"--convert-std-to-llvm\",\n",
    "]"
   ]
  },
  {
   "cell_type": "markdown",
   "id": "a36d6717",
   "metadata": {},
   "source": [
    "## Overview of graphblas.vector_argmin\n",
    "\n",
    "Here, we'll show how to use the `graphblas.vector_argmin` op. \n",
    "\n",
    "`graphblas.vector_argmin` determines the [argmin](https://en.wikipedia.org/wiki/Arg_max#Arg_min) of a vector. If there are multiple values that can be the argmin, an arbitrary one is chosen from them. The given sparse vector must have rank 1 and must be sparse.\n",
    "\n",
    "Let's create an example input sparse vector."
   ]
  },
  {
   "cell_type": "code",
   "execution_count": 14,
   "id": "e61f3d78",
   "metadata": {},
   "outputs": [],
   "source": [
    "dense_vector = np.array(\n",
    "    [0, 1, 0, -999, 2, 0, 3, 0],\n",
    "    dtype=np.int64,\n",
    ")\n",
    "\n",
    "sparse_vector = sparsify_array(dense_vector, [True])"
   ]
  },
  {
   "cell_type": "markdown",
   "id": "893f8929",
   "metadata": {},
   "source": [
    "Here's what some MLIR code using `graphblas.vector_argmin` looks like. "
   ]
  },
  {
   "cell_type": "code",
   "execution_count": 15,
   "id": "c3df4772",
   "metadata": {},
   "outputs": [],
   "source": [
    "mlir_text = \"\"\"\n",
    "#CV64 = #sparse_tensor.encoding<{\n",
    "  dimLevelType = [ \"compressed\" ],\n",
    "  pointerBitWidth = 64,\n",
    "  indexBitWidth = 64\n",
    "}>\n",
    "\n",
    "module {\n",
    "    func @vector_argmin_wrapper(%vec: tensor<?xi64, #CV64>) -> index {\n",
    "        %answer = graphblas.vector_argmin %vec : tensor<?xi64, #CV64>\n",
    "        return %answer : index\n",
    "    }\n",
    "}\n",
    "\"\"\""
   ]
  },
  {
   "cell_type": "markdown",
   "id": "d99e379b",
   "metadata": {},
   "source": [
    "Let's compile it and demonstrate its use. "
   ]
  },
  {
   "cell_type": "code",
   "execution_count": 16,
   "id": "42401ae5",
   "metadata": {},
   "outputs": [
    {
     "data": {
      "text/plain": [
       "['vector_argmin_wrapper']"
      ]
     },
     "execution_count": 16,
     "metadata": {},
     "output_type": "execute_result"
    }
   ],
   "source": [
    "engine.add(mlir_text, passes)"
   ]
  },
  {
   "cell_type": "code",
   "execution_count": 17,
   "id": "274035dc",
   "metadata": {},
   "outputs": [
    {
     "data": {
      "text/plain": [
       "3"
      ]
     },
     "execution_count": 17,
     "metadata": {},
     "output_type": "execute_result"
    }
   ],
   "source": [
    "argmin = engine.vector_argmin_wrapper(sparse_vector)\n",
    "argmin"
   ]
  },
  {
   "cell_type": "markdown",
   "id": "441b84f9",
   "metadata": {},
   "source": [
    "Let's verify that the behavior is the same as that of [NumPy](https://numpy.org/)."
   ]
  },
  {
   "cell_type": "code",
   "execution_count": 18,
   "id": "62e6cb76",
   "metadata": {},
   "outputs": [
    {
     "data": {
      "text/plain": [
       "True"
      ]
     },
     "execution_count": 18,
     "metadata": {},
     "output_type": "execute_result"
    }
   ],
   "source": [
    "argmin == np.argmin(dense_vector)"
   ]
  },
  {
   "cell_type": "markdown",
   "id": "f8e072ca",
   "metadata": {},
   "source": [
    "## Overview of graphblas.vector_argmax\n",
    "\n",
    "Here, we'll show how to use the `graphblas.vector_argmax` op. \n",
    "\n",
    "`graphblas.vector_argmax` determines the [argmax](https://en.wikipedia.org/wiki/Arg_max) of a vector. \n",
    "\n",
    "Here's what some MLIR code using `graphblas.vector_argmax` looks like. "
   ]
  },
  {
   "cell_type": "code",
   "execution_count": 19,
   "id": "28a58b99",
   "metadata": {},
   "outputs": [],
   "source": [
    "mlir_text = \"\"\"\n",
    "#CV64 = #sparse_tensor.encoding<{\n",
    "  dimLevelType = [ \"compressed\" ],\n",
    "  pointerBitWidth = 64,\n",
    "  indexBitWidth = 64\n",
    "}>\n",
    "\n",
    "module {\n",
    "    func @vector_argmax_wrapper(%vec: tensor<?xi64, #CV64>) -> index {\n",
    "        %answer = graphblas.vector_argmax %vec : tensor<?xi64, #CV64>\n",
    "        return %answer : index\n",
    "    }\n",
    "}\n",
    "\"\"\""
   ]
  },
  {
   "cell_type": "markdown",
   "id": "022ac522",
   "metadata": {},
   "source": [
    "Let's compile it and demonstrate its use."
   ]
  },
  {
   "cell_type": "code",
   "execution_count": 20,
   "id": "bfd830ee",
   "metadata": {},
   "outputs": [
    {
     "data": {
      "text/plain": [
       "['vector_argmax_wrapper']"
      ]
     },
     "execution_count": 20,
     "metadata": {},
     "output_type": "execute_result"
    }
   ],
   "source": [
    "engine.add(mlir_text, passes)"
   ]
  },
  {
   "cell_type": "code",
   "execution_count": 21,
   "id": "2f66079c",
   "metadata": {},
   "outputs": [
    {
     "data": {
      "text/plain": [
       "6"
      ]
     },
     "execution_count": 21,
     "metadata": {},
     "output_type": "execute_result"
    }
   ],
   "source": [
    "argmax = engine.vector_argmax_wrapper(sparse_vector)\n",
    "argmax"
   ]
  },
  {
   "cell_type": "markdown",
   "id": "392eb070",
   "metadata": {},
   "source": [
    "Let's verify that the behavior is the same as that of [NumPy](https://numpy.org/)."
   ]
  },
  {
   "cell_type": "code",
   "execution_count": 22,
   "id": "8ed2975b",
   "metadata": {},
   "outputs": [
    {
     "data": {
      "text/plain": [
       "True"
      ]
     },
     "execution_count": 22,
     "metadata": {},
     "output_type": "execute_result"
    }
   ],
   "source": [
    "argmax == np.argmax(dense_vector)"
   ]
  }
 ],
 "metadata": {
  "kernelspec": {
   "display_name": "Python 3 (ipykernel)",
   "language": "python",
   "name": "python3"
  },
  "language_info": {
   "codemirror_mode": {
    "name": "ipython",
    "version": 3
   },
   "file_extension": ".py",
   "mimetype": "text/x-python",
   "name": "python",
   "nbconvert_exporter": "python",
   "pygments_lexer": "ipython3",
   "version": "3.8.10"
  }
 },
 "nbformat": 4,
 "nbformat_minor": 5
}
