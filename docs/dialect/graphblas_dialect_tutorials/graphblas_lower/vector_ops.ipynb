{
 "cells": [
  {
   "cell_type": "markdown",
   "id": "5e37bc79",
   "metadata": {},
   "source": [
    "# Vector Ops\n",
    "\n",
    "This tutorial will go over how to use the `--graphblas-lower` pass from `graphblas-opt` to lower some ops from the GraphBLAS dialect that deal with vectors into executable Python code. There are many such ops. We'll focus on `graphblas.reduce_to_scalar` whhen applied to vectors.\n",
    "\n",
    "Since the [ops reference](../../ops_reference.rst) already documents these ops with examples, we'll only briefly describe them here. \n",
    "\n",
    "Let’s first import some necessary modules and generate an instance of our JIT engine."
   ]
  },
  {
   "cell_type": "code",
   "execution_count": 1,
   "id": "2e07aa14",
   "metadata": {},
   "outputs": [
    {
     "name": "stderr",
     "output_type": "stream",
     "text": [
      "Using development graphblas-opt: /Users/pnguyen/code/mlir-graphblas/mlir_graphblas/src/build/bin/graphblas-opt\n"
     ]
    }
   ],
   "source": [
    "import mlir_graphblas\n",
    "import numpy as np\n",
    "from mlir_graphblas.tools.utils import sparsify_array\n",
    "\n",
    "engine = mlir_graphblas.MlirJitEngine()"
   ]
  },
  {
   "cell_type": "markdown",
   "id": "810ec81a",
   "metadata": {},
   "source": [
    "Here are the passes we'll use."
   ]
  },
  {
   "cell_type": "code",
   "execution_count": 2,
   "id": "a2e90887",
   "metadata": {},
   "outputs": [],
   "source": [
    "passes = [\n",
    "    \"--graphblas-structuralize\",\n",
    "    \"--graphblas-optimize\",\n",
    "    \"--graphblas-lower\",\n",
    "    \"--sparsification\",\n",
    "    \"--sparse-tensor-conversion\",\n",
    "    \"--linalg-bufferize\",\n",
    "    \"--func-bufferize\",\n",
    "    \"--tensor-bufferize\",\n",
    "    \"--finalizing-bufferize\",\n",
    "    \"--convert-linalg-to-loops\",\n",
    "    \"--convert-vector-to-llvm\",\n",
    "    \"--convert-math-to-llvm\",\n",
    "    \"--convert-math-to-libm\",\n",
    "    \"--convert-scf-to-cf\",\n",
    "    \"--convert-memref-to-llvm\",\n",
    "    \"--convert-openmp-to-llvm\",\n",
    "    \"--convert-arith-to-llvm\",\n",
    "    \"--convert-std-to-llvm\",\n",
    "    \"--reconcile-unrealized-casts\",\n",
    "]"
   ]
  },
  {
   "cell_type": "markdown",
   "id": "a36d6717",
   "metadata": {},
   "source": [
    "## Overview of graphblas.reduce_to_scalar\n",
    "\n",
    "Here, we'll show how to use the `graphblas.reduce_to_scalar` op. \n",
    "\n",
    "`graphblas.reduce_to_scalar` reduces a sparse tensor to a scalar according to the given aggregator. We'll use the \"[argmin](https://en.wikipedia.org/wiki/Arg_max#Arg_min)\" operator for this example. If there are multiple values that can be the argmin, an arbitrary one is chosen from them.\n",
    "\n",
    "Let's create an example input sparse vector."
   ]
  },
  {
   "cell_type": "code",
   "execution_count": 3,
   "id": "e61f3d78",
   "metadata": {},
   "outputs": [],
   "source": [
    "dense_vector = np.array(\n",
    "    [0, 1, 0, -999, 2, 0, 3, 0],\n",
    "    dtype=np.int64,\n",
    ")\n",
    "\n",
    "sparse_vector = sparsify_array(dense_vector, [True])"
   ]
  },
  {
   "cell_type": "markdown",
   "id": "893f8929",
   "metadata": {},
   "source": [
    "Here's what some MLIR code using `graphblas.vector_argmin` looks like. "
   ]
  },
  {
   "cell_type": "code",
   "execution_count": 4,
   "id": "c3df4772",
   "metadata": {},
   "outputs": [],
   "source": [
    "mlir_text = \"\"\"\n",
    "#CV64 = #sparse_tensor.encoding<{\n",
    "  dimLevelType = [ \"compressed\" ],\n",
    "  pointerBitWidth = 64,\n",
    "  indexBitWidth = 64\n",
    "}>\n",
    "\n",
    "module {\n",
    "    func @vector_argmin_wrapper(%vec: tensor<?xi64, #CV64>) -> i64 {\n",
    "        %answer = graphblas.reduce_to_scalar %vec { aggregator = \"argmin\" } : tensor<?xi64, #CV64> to i64\n",
    "        return %answer : i64\n",
    "    }\n",
    "}\n",
    "\"\"\""
   ]
  },
  {
   "cell_type": "markdown",
   "id": "d99e379b",
   "metadata": {},
   "source": [
    "Let's compile it and demonstrate its use. "
   ]
  },
  {
   "cell_type": "code",
   "execution_count": 5,
   "id": "42401ae5",
   "metadata": {},
   "outputs": [
    {
     "data": {
      "text/plain": [
       "['vector_argmin_wrapper']"
      ]
     },
     "execution_count": 5,
     "metadata": {},
     "output_type": "execute_result"
    }
   ],
   "source": [
    "engine.add(mlir_text, passes)\n"
   ]
  },
  {
   "cell_type": "code",
   "execution_count": 6,
   "id": "274035dc",
   "metadata": {},
   "outputs": [
    {
     "data": {
      "text/plain": [
       "3"
      ]
     },
     "execution_count": 6,
     "metadata": {},
     "output_type": "execute_result"
    }
   ],
   "source": [
    "argmin = engine.vector_argmin_wrapper(sparse_vector)\n",
    "argmin\n"
   ]
  },
  {
   "cell_type": "markdown",
   "id": "f8e072ca",
   "metadata": {},
   "source": [
    "## Overview of graphblas.equal\n",
    "\n",
    "Here, we'll show how to use the `graphblas.equal` op. \n",
    "\n",
    "`graphblas.equal` performs an equality check. \n",
    "\n",
    "Here's what some MLIR code using `graphblas.equal` looks like when used with vectors. "
   ]
  },
  {
   "cell_type": "code",
   "execution_count": 7,
   "id": "28a58b99",
   "metadata": {},
   "outputs": [],
   "source": [
    "mlir_text = \"\"\"\n",
    "#CV64 = #sparse_tensor.encoding<{\n",
    "  dimLevelType = [ \"compressed\" ],\n",
    "  pointerBitWidth = 64,\n",
    "  indexBitWidth = 64\n",
    "}>\n",
    "\n",
    "module {\n",
    "    func @vector_eq(%u: tensor<?xi64, #CV64>, %v: tensor<?xi64, #CV64>) -> i1 {\n",
    "        %answer = graphblas.equal %u, %v : tensor<?xi64, #CV64>, tensor<?xi64, #CV64>\n",
    "        return %answer : i1\n",
    "    }\n",
    "}\n",
    "\"\"\""
   ]
  },
  {
   "cell_type": "markdown",
   "id": "022ac522",
   "metadata": {},
   "source": [
    "Let's compile it and demonstrate its use."
   ]
  },
  {
   "cell_type": "code",
   "execution_count": 8,
   "id": "bfd830ee",
   "metadata": {},
   "outputs": [
    {
     "data": {
      "text/plain": [
       "['vector_eq']"
      ]
     },
     "execution_count": 8,
     "metadata": {},
     "output_type": "execute_result"
    }
   ],
   "source": [
    "engine.add(mlir_text, passes)"
   ]
  },
  {
   "cell_type": "markdown",
   "id": "f422980e",
   "metadata": {},
   "source": [
    "Let's create some example inputs."
   ]
  },
  {
   "cell_type": "code",
   "execution_count": 9,
   "id": "1a057754",
   "metadata": {},
   "outputs": [],
   "source": [
    "a_dense = np.array([0, 1, 0], dtype=np.int64)\n",
    "b_dense = np.array([9, 9, 9], dtype=np.int64)\n",
    "c_dense = np.array([0, 1, 0], dtype=np.int64)\n",
    "\n",
    "a = sparsify_array(a_dense, [True])\n",
    "b = sparsify_array(b_dense, [True])\n",
    "c = sparsify_array(c_dense, [True])"
   ]
  },
  {
   "cell_type": "code",
   "execution_count": 10,
   "id": "2f66079c",
   "metadata": {},
   "outputs": [
    {
     "data": {
      "text/plain": [
       "False"
      ]
     },
     "execution_count": 10,
     "metadata": {},
     "output_type": "execute_result"
    }
   ],
   "source": [
    "engine.vector_eq(a, b)"
   ]
  },
  {
   "cell_type": "code",
   "execution_count": 11,
   "id": "dc488f2a",
   "metadata": {
    "pycharm": {
     "name": "#%%\n"
    }
   },
   "outputs": [
    {
     "data": {
      "text/plain": [
       "True"
      ]
     },
     "execution_count": 11,
     "metadata": {},
     "output_type": "execute_result"
    }
   ],
   "source": [
    "engine.vector_eq(a, c)"
   ]
  }
 ],
 "metadata": {
  "kernelspec": {
   "display_name": "Python 3 (ipykernel)",
   "language": "python",
   "name": "python3"
  },
  "language_info": {
   "codemirror_mode": {
    "name": "ipython",
    "version": 3
   },
   "file_extension": ".py",
   "mimetype": "text/x-python",
   "name": "python",
   "nbconvert_exporter": "python",
   "pygments_lexer": "ipython3",
   "version": "3.8.12"
  }
 },
 "nbformat": 4,
 "nbformat_minor": 5
}
