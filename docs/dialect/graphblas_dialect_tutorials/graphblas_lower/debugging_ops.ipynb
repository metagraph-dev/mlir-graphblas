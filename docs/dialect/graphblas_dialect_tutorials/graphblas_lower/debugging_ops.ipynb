{
 "cells": [
  {
   "cell_type": "markdown",
   "id": "2e092255",
   "metadata": {},
   "source": [
    "# Debugging Ops\n",
    "\n",
    "This example will go over some ops from the GraphBLAS dialect that are useful for debugging.\n",
    "\n",
    "Let’s first import some necessary modules and generate an instance of our JIT engine."
   ]
  },
  {
   "cell_type": "code",
   "execution_count": 1,
   "id": "34507fda",
   "metadata": {},
   "outputs": [
    {
     "name": "stderr",
     "output_type": "stream",
     "text": [
      "Using development graphblas-opt: /Users/pnguyen/code/mlir-graphblas/mlir_graphblas/src/build/bin/graphblas-opt\n"
     ]
    }
   ],
   "source": [
    "import mlir_graphblas\n",
    "import numpy as np\n",
    "from mlir_graphblas.tools.utils import sparsify_array\n",
    "\n",
    "engine = mlir_graphblas.MlirJitEngine()"
   ]
  },
  {
   "cell_type": "markdown",
   "id": "e05d868a",
   "metadata": {},
   "source": [
    "Here are the passes we'll use."
   ]
  },
  {
   "cell_type": "code",
   "execution_count": 2,
   "id": "936066d3",
   "metadata": {},
   "outputs": [],
   "source": [
    "passes = [\n",
    "    \"--graphblas-structuralize\",\n",
    "    \"--graphblas-optimize\",\n",
    "    \"--graphblas-lower\",\n",
    "    \"--sparsification\",\n",
    "    \"--sparse-tensor-conversion\",\n",
    "    \"--linalg-bufferize\",\n",
    "    \"--func-bufferize\",\n",
    "    \"--tensor-bufferize\",\n",
    "    \"--finalizing-bufferize\",\n",
    "    \"--convert-linalg-to-loops\",\n",
    "    \"--convert-vector-to-llvm\",\n",
    "    \"--convert-math-to-llvm\",\n",
    "    \"--convert-math-to-libm\",\n",
    "    \"--convert-scf-to-cf\",\n",
    "    \"--convert-memref-to-llvm\",\n",
    "    \"--convert-openmp-to-llvm\",\n",
    "    \"--convert-arith-to-llvm\",\n",
    "    \"--convert-std-to-llvm\",\n",
    "    \"--reconcile-unrealized-casts\",\n",
    "]"
   ]
  },
  {
   "cell_type": "markdown",
   "id": "0231b032",
   "metadata": {},
   "source": [
    "## Overview of graphblas.comment\n",
    "\n",
    "Comments in MLIR disappear when roundtripped through `mlir-opt` or `graphblas-opt`. \n",
    "\n",
    "`graphblas.comment` is an op that acts as a [workaround](https://en.wikipedia.org/wiki/Workaround) to preserve comments in MLIR code. It has an attribute that contains the code comment. When passed through `--graphblas-lower`,  the op simply disappears. `graphblas.comment` is intended to be a [no-op](https://en.wikipedia.org/wiki/NOP_(code)). \n",
    "\n",
    "We'll demonstrate this by inserting several `graphblas.comment` ops into a function and show that it does not affect behavior.\n",
    "Here is some MLIR code to perform a conventional matrix-multiply by using `graphblas.matrix_multiply` with the plus-times semiring.\n",
    "Note that both of the input matrices are CSR matrices. Thus, we'll need to convert the layout of the second operand in our code below. "
   ]
  },
  {
   "cell_type": "code",
   "execution_count": 3,
   "id": "8c425b7c",
   "metadata": {},
   "outputs": [],
   "source": [
    "mlir_text = \"\"\"\n",
    "#CSR64 = #sparse_tensor.encoding<{\n",
    "  dimLevelType = [ \"dense\", \"compressed\" ],\n",
    "  dimOrdering = affine_map<(i,j) -> (i,j)>,\n",
    "  pointerBitWidth = 64,\n",
    "  indexBitWidth = 64\n",
    "}>\n",
    "\n",
    "#CSC64 = #sparse_tensor.encoding<{\n",
    "  dimLevelType = [ \"dense\", \"compressed\" ],\n",
    "  dimOrdering = affine_map<(i,j) -> (j,i)>,\n",
    "  pointerBitWidth = 64,\n",
    "  indexBitWidth = 64\n",
    "}>\n",
    "\n",
    "module {\n",
    "    func @matrix_multiply_plus_times(%a: tensor<?x?xf64, #CSR64>, %b: tensor<?x?xf64, #CSR64>) -> tensor<?x?xf64, #CSR64> {\n",
    "        %b_csc = graphblas.convert_layout %b : tensor<?x?xf64, #CSR64> to tensor<?x?xf64, #CSC64>\n",
    "        %answer = graphblas.matrix_multiply %a, %b_csc { semiring = \"plus_times\" } : (tensor<?x?xf64, #CSR64>, tensor<?x?xf64, #CSC64>) to tensor<?x?xf64, #CSR64>\n",
    "        return %answer : tensor<?x?xf64, #CSR64>\n",
    "    }\n",
    "    func @matrix_multiply_plus_times_with_comments(%a: tensor<?x?xf64, #CSR64>, %b: tensor<?x?xf64, #CSR64>) -> tensor<?x?xf64, #CSR64> {\n",
    "        graphblas.comment { comment = \"here is the first comment!\" }\n",
    "        graphblas.comment { comment = \"here is the second comment!\" }\n",
    "        %b_csc = graphblas.convert_layout %b : tensor<?x?xf64, #CSR64> to tensor<?x?xf64, #CSC64>\n",
    "        graphblas.comment { comment = \"here is the third comment!\" }\n",
    "        %answer = graphblas.matrix_multiply %a, %b_csc { semiring = \"plus_times\" } : (tensor<?x?xf64, #CSR64>, tensor<?x?xf64, #CSC64>) to tensor<?x?xf64, #CSR64>\n",
    "        graphblas.comment { comment = \"here is the fourth comment!\" }\n",
    "        graphblas.comment { comment = \"here is the fifth comment!\" }\n",
    "        return %answer : tensor<?x?xf64, #CSR64>\n",
    "    }\n",
    "}\n",
    "\"\"\""
   ]
  },
  {
   "cell_type": "code",
   "execution_count": 4,
   "id": "8538580b",
   "metadata": {},
   "outputs": [
    {
     "data": {
      "text/plain": [
       "['matrix_multiply_plus_times', 'matrix_multiply_plus_times_with_comments']"
      ]
     },
     "execution_count": 4,
     "metadata": {},
     "output_type": "execute_result"
    }
   ],
   "source": [
    "engine.add(mlir_text, passes)"
   ]
  },
  {
   "cell_type": "markdown",
   "id": "f4c8521a",
   "metadata": {},
   "source": [
    "Let's generate some inputs to show that the `graphblas.comment` ops don't affect behavior. "
   ]
  },
  {
   "cell_type": "code",
   "execution_count": 5,
   "id": "da9cc3df",
   "metadata": {},
   "outputs": [],
   "source": [
    "A_dense = np.array(\n",
    "    [\n",
    "        [1, 0, 0, 0],\n",
    "        [2, 0, 3, 4],\n",
    "        [0, 0, 0, 0],\n",
    "        [0, 0, 5, 6],\n",
    "    ],\n",
    "    dtype=np.float64\n",
    ")\n",
    "A = sparsify_array(A_dense, [False, True])\n",
    "\n",
    "B_dense = np.array(\n",
    "    [\n",
    "        [0, 7, 0, 7],\n",
    "        [0, 1, 0, 0],\n",
    "        [0, 1, 7, 0],\n",
    "        [0, 7, 2, 0],\n",
    "    ],\n",
    "    dtype=np.float64\n",
    ")\n",
    "B = sparsify_array(B_dense, [False, True])"
   ]
  },
  {
   "cell_type": "code",
   "execution_count": 6,
   "id": "951e0769",
   "metadata": {},
   "outputs": [],
   "source": [
    "no_comment_result = engine.matrix_multiply_plus_times(A, B)\n",
    "comment_result = engine.matrix_multiply_plus_times_with_comments(A, B)"
   ]
  },
  {
   "cell_type": "code",
   "execution_count": 7,
   "id": "2423a314",
   "metadata": {},
   "outputs": [
    {
     "data": {
      "text/plain": [
       "True"
      ]
     },
     "execution_count": 7,
     "metadata": {},
     "output_type": "execute_result"
    }
   ],
   "source": [
    "np.all(no_comment_result.toarray() == comment_result.toarray())"
   ]
  },
  {
   "cell_type": "markdown",
   "id": "c581fd54",
   "metadata": {},
   "source": [
    "## Overview of graphblas.print\n",
    "\n",
    "Writing MLIR code can be difficult.\n",
    "\n",
    "Print statements can help debugging undesired behavior, e.g. [segmentation faults](https://en.wikipedia.org/wiki/Segmentation_fault).\n",
    "\n",
    "`graphblas.print` let's us print things. For example, take a look at this MLIR code.\n",
    "\n",
    "```\n",
    "module {\n",
    "  func @print_arbitrary_content() -> () {\n",
    "      %c99 = constant 99 : index\n",
    "      %0 = constant 1.3 : f32\n",
    "      %1 = constant 34 : i8\n",
    "      graphblas.print %0, %0, %0, %0 { strings = [\"first line : \"] } : f32, f32, f32, f32\n",
    "      graphblas.print %c99 { strings = [\"second line : \", \" string_a\", \" string_b\", \" string_c\"] } : index\n",
    "      graphblas.print %0, %1 { strings = [\"third line : \", \" |\\\\\"| \"] } : f32, i8\n",
    "      return\n",
    "  }\n",
    "}\n",
    "```\n",
    "\n",
    "It'll print the following:\n",
    "```\n",
    "first line : 1.3 1.3 1.3 1.3\n",
    "second line : 99 string_a  string_b  string_c \n",
    "third line : 1.3 |\"| 34\n",
    "```"
   ]
  }
 ],
 "metadata": {
  "kernelspec": {
   "display_name": "Python 3 (ipykernel)",
   "language": "python",
   "name": "python3"
  },
  "language_info": {
   "codemirror_mode": {
    "name": "ipython",
    "version": 3
   },
   "file_extension": ".py",
   "mimetype": "text/x-python",
   "name": "python",
   "nbconvert_exporter": "python",
   "pygments_lexer": "ipython3",
   "version": "3.8.12"
  }
 },
 "nbformat": 4,
 "nbformat_minor": 5
}
