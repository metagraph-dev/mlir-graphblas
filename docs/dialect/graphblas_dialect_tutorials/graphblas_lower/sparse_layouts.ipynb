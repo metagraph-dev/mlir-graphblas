{
 "cells": [
  {
   "cell_type": "markdown",
   "id": "greenhouse-advocacy",
   "metadata": {},
   "source": [
    "# Working with Sparse Layouts in the GraphBLAS Dialect\n",
    "\n",
    "This example will go over how to use the `--graphblas-lower` pass from `graphblas-opt` to lower the GraphBLAS dialect ops that directly manipulate the layouts of sparse tensors. In particular, we'll focus on the `graphblas.convert_layout` and `graphblas.transpose` ops.\n",
    "\n",
    "Since the [ops reference](../../ops_reference.rst) already documents these ops with examples, we'll only briefly describe them here. \n",
    "\n",
    "Let’s first import some necessary modules and generate an instance of our JIT engine."
   ]
  },
  {
   "cell_type": "code",
   "execution_count": 2,
   "id": "selected-emphasis",
   "metadata": {},
   "outputs": [],
   "source": [
    "import mlir_graphblas\n",
    "from mlir_graphblas.tools.utils import sparsify_array, densify_csr, densify_csc\n",
    "import numpy as np\n",
    "\n",
    "engine = mlir_graphblas.MlirJitEngine()"
   ]
  },
  {
   "cell_type": "markdown",
   "id": "swedish-franchise",
   "metadata": {},
   "source": [
    "## Overview of graphblas.convert_layout\n",
    "\n",
    "Here, we'll show how to use the `graphblas.convert_layout` op. \n",
    "\n",
    "This op takes 1 sparse matrix in CSR or CSC format and creates a new sparse matrix of the desired format.\n",
    "\n",
    "We'll give several examples below of how this will work.\n",
    "\n",
    "First, we'll define an example input CSR matrix."
   ]
  },
  {
   "cell_type": "code",
   "execution_count": 2,
   "id": "681a2d6e",
   "metadata": {},
   "outputs": [],
   "source": [
    "dense_matrix = np.array(\n",
    "    [\n",
    "        [1.1, 0. , 0. , 0. ],\n",
    "        [0. , 0. , 2.2, 0. ],\n",
    "        [0. , 0. , 0. , 0. ],\n",
    "        [0. , 0. , 0. , 0. ]\n",
    "    ],\n",
    "    dtype=np.float64,\n",
    ")\n",
    "\n",
    "csr_matrix = sparsify_array(dense_matrix, [False, True])"
   ]
  },
  {
   "cell_type": "markdown",
   "id": "e9633ac9",
   "metadata": {},
   "source": [
    "## graphblas.convert_layout (CSR->CSC)\n",
    "\n",
    "Let's convert this matrix to CSC format."
   ]
  },
  {
   "cell_type": "code",
   "execution_count": 3,
   "id": "pretty-balloon",
   "metadata": {},
   "outputs": [],
   "source": [
    "mlir_text = \"\"\"\n",
    "#CSR64 = #sparse_tensor.encoding<{\n",
    "  dimLevelType = [ \"dense\", \"compressed\" ],\n",
    "  dimOrdering = affine_map<(i,j) -> (i,j)>,\n",
    "  pointerBitWidth = 64,\n",
    "  indexBitWidth = 64\n",
    "}>\n",
    "\n",
    "#CSC64 = #sparse_tensor.encoding<{\n",
    "  dimLevelType = [ \"dense\", \"compressed\" ],\n",
    "  dimOrdering = affine_map<(i,j) -> (j,i)>,\n",
    "  pointerBitWidth = 64,\n",
    "  indexBitWidth = 64\n",
    "}>\n",
    "\n",
    "func @csr_to_csc(%sparse_tensor: tensor<?x?xf64, #CSR64>) -> tensor<?x?xf64, #CSC64> {\n",
    "    %answer = graphblas.convert_layout %sparse_tensor : tensor<?x?xf64, #CSR64> to tensor<?x?xf64, #CSC64>\n",
    "    return %answer : tensor<?x?xf64, #CSC64>\n",
    "}\n",
    "\"\"\""
   ]
  },
  {
   "cell_type": "markdown",
   "id": "9bef8dcd",
   "metadata": {},
   "source": [
    "Here are the passes we'll use."
   ]
  },
  {
   "cell_type": "code",
   "execution_count": 4,
   "id": "7df9d341",
   "metadata": {},
   "outputs": [],
   "source": [
    "passes = [\n",
    "    \"--graphblas-lower\",\n",
    "    \"--sparsification\",\n",
    "    \"--sparse-tensor-conversion\",\n",
    "    \"--linalg-bufferize\",\n",
    "    \"--func-bufferize\",\n",
    "    \"--tensor-bufferize\",\n",
    "    \"--tensor-constant-bufferize\",\n",
    "    \"--finalizing-bufferize\",\n",
    "    \"--convert-linalg-to-loops\",\n",
    "    \"--convert-scf-to-std\",\n",
    "    \"--convert-memref-to-llvm\",\n",
    "    \"--convert-std-to-llvm\",\n",
    "]"
   ]
  },
  {
   "cell_type": "code",
   "execution_count": 5,
   "id": "4bd7eadf",
   "metadata": {},
   "outputs": [
    {
     "data": {
      "text/plain": [
       "['csr_to_csc']"
      ]
     },
     "execution_count": 5,
     "metadata": {},
     "output_type": "execute_result"
    }
   ],
   "source": [
    "engine.add(mlir_text, passes)"
   ]
  },
  {
   "cell_type": "code",
   "execution_count": 6,
   "id": "8bf6b907",
   "metadata": {},
   "outputs": [],
   "source": [
    "csc_matrix = engine.csr_to_csc(csr_matrix)"
   ]
  },
  {
   "cell_type": "code",
   "execution_count": 7,
   "id": "76df9fe9",
   "metadata": {},
   "outputs": [
    {
     "data": {
      "text/plain": [
       "array([[1.1, 0. , 0. , 0. ],\n",
       "       [0. , 0. , 2.2, 0. ],\n",
       "       [0. , 0. , 0. , 0. ],\n",
       "       [0. , 0. , 0. , 0. ]])"
      ]
     },
     "execution_count": 7,
     "metadata": {},
     "output_type": "execute_result"
    }
   ],
   "source": [
    "densify_csc(csc_matrix)"
   ]
  },
  {
   "cell_type": "code",
   "execution_count": 8,
   "id": "aef4a585",
   "metadata": {},
   "outputs": [
    {
     "data": {
      "text/plain": [
       "True"
      ]
     },
     "execution_count": 8,
     "metadata": {},
     "output_type": "execute_result"
    }
   ],
   "source": [
    "np.all(dense_matrix == densify_csc(csc_matrix))"
   ]
  },
  {
   "cell_type": "markdown",
   "id": "a33b5827",
   "metadata": {},
   "source": [
    "## graphblas.convert_layout (CSC->CSR)\n",
    "\n",
    "Let's convert the CSC matrix back to CSR format.\n",
    "\n",
    "Let's first get rid of our original `csr_matrix` so we don't get correct results purely by accident."
   ]
  },
  {
   "cell_type": "code",
   "execution_count": 9,
   "id": "ddd8b708",
   "metadata": {},
   "outputs": [],
   "source": [
    "del csr_matrix"
   ]
  },
  {
   "cell_type": "markdown",
   "id": "e794a5c0",
   "metadata": {},
   "source": [
    "Here's the MLIR code to convert from CSC to CSR. "
   ]
  },
  {
   "cell_type": "code",
   "execution_count": 10,
   "id": "e1c4c81e",
   "metadata": {},
   "outputs": [],
   "source": [
    "mlir_text = \"\"\"\n",
    "#CSR64 = #sparse_tensor.encoding<{\n",
    "  dimLevelType = [ \"dense\", \"compressed\" ],\n",
    "  dimOrdering = affine_map<(i,j) -> (i,j)>,\n",
    "  pointerBitWidth = 64,\n",
    "  indexBitWidth = 64\n",
    "}>\n",
    "\n",
    "#CSC64 = #sparse_tensor.encoding<{\n",
    "  dimLevelType = [ \"dense\", \"compressed\" ],\n",
    "  dimOrdering = affine_map<(i,j) -> (j,i)>,\n",
    "  pointerBitWidth = 64,\n",
    "  indexBitWidth = 64\n",
    "}>\n",
    "\n",
    "func @csc_to_csr(%sparse_tensor: tensor<?x?xf64, #CSC64>) -> tensor<?x?xf64, #CSR64> {\n",
    "    %answer = graphblas.convert_layout %sparse_tensor : tensor<?x?xf64, #CSC64> to tensor<?x?xf64, #CSR64>\n",
    "    return %answer : tensor<?x?xf64, #CSR64>\n",
    "}\n",
    "\"\"\""
   ]
  },
  {
   "cell_type": "code",
   "execution_count": 11,
   "id": "cf494b1c",
   "metadata": {},
   "outputs": [
    {
     "data": {
      "text/plain": [
       "['csc_to_csr']"
      ]
     },
     "execution_count": 11,
     "metadata": {},
     "output_type": "execute_result"
    }
   ],
   "source": [
    "engine.add(mlir_text, passes)"
   ]
  },
  {
   "cell_type": "code",
   "execution_count": 12,
   "id": "fb1b2d1c",
   "metadata": {},
   "outputs": [],
   "source": [
    "csr_matrix = engine.csc_to_csr(csc_matrix)"
   ]
  },
  {
   "cell_type": "code",
   "execution_count": 13,
   "id": "f12eba08",
   "metadata": {},
   "outputs": [
    {
     "data": {
      "text/plain": [
       "array([[1.1, 0. , 0. , 0. ],\n",
       "       [0. , 0. , 2.2, 0. ],\n",
       "       [0. , 0. , 0. , 0. ],\n",
       "       [0. , 0. , 0. , 0. ]])"
      ]
     },
     "execution_count": 13,
     "metadata": {},
     "output_type": "execute_result"
    }
   ],
   "source": [
    "densify_csr(csr_matrix)"
   ]
  },
  {
   "cell_type": "code",
   "execution_count": 14,
   "id": "eb3bbd51",
   "metadata": {},
   "outputs": [
    {
     "data": {
      "text/plain": [
       "True"
      ]
     },
     "execution_count": 14,
     "metadata": {},
     "output_type": "execute_result"
    }
   ],
   "source": [
    "np.all(dense_matrix == densify_csr(csr_matrix))"
   ]
  },
  {
   "cell_type": "markdown",
   "id": "6c3a4066",
   "metadata": {},
   "source": [
    "## graphblas.convert_layout (CSC->CSC, CSR->CSR)\n",
    "\n",
    "For completeness, we'll show how to convert to and from the same exact layouts.\n",
    "\n",
    "The MLIR code to do so is shown below."
   ]
  },
  {
   "cell_type": "code",
   "execution_count": 15,
   "id": "4caf7c4c",
   "metadata": {},
   "outputs": [],
   "source": [
    "mlir_text = \"\"\"\n",
    "#CSR64 = #sparse_tensor.encoding<{\n",
    "  dimLevelType = [ \"dense\", \"compressed\" ],\n",
    "  dimOrdering = affine_map<(i,j) -> (i,j)>,\n",
    "  pointerBitWidth = 64,\n",
    "  indexBitWidth = 64\n",
    "}>\n",
    "\n",
    "#CSC64 = #sparse_tensor.encoding<{\n",
    "  dimLevelType = [ \"dense\", \"compressed\" ],\n",
    "  dimOrdering = affine_map<(i,j) -> (j,i)>,\n",
    "  pointerBitWidth = 64,\n",
    "  indexBitWidth = 64\n",
    "}>\n",
    "\n",
    "func @csc_to_csc(%sparse_tensor: tensor<?x?xf64, #CSC64>) -> tensor<?x?xf64, #CSC64> {\n",
    "    %answer = graphblas.convert_layout %sparse_tensor : tensor<?x?xf64, #CSC64> to tensor<?x?xf64, #CSC64>\n",
    "    return %answer : tensor<?x?xf64, #CSC64>\n",
    "}\n",
    "\n",
    "func @csr_to_csr(%sparse_tensor: tensor<?x?xf64, #CSR64>) -> tensor<?x?xf64, #CSR64> {\n",
    "    %answer = graphblas.convert_layout %sparse_tensor : tensor<?x?xf64, #CSR64> to tensor<?x?xf64, #CSR64>\n",
    "    return %answer : tensor<?x?xf64, #CSR64>\n",
    "}\n",
    "\"\"\""
   ]
  },
  {
   "cell_type": "code",
   "execution_count": 16,
   "id": "a805c225",
   "metadata": {},
   "outputs": [
    {
     "data": {
      "text/plain": [
       "['csc_to_csc', 'csr_to_csr']"
      ]
     },
     "execution_count": 16,
     "metadata": {},
     "output_type": "execute_result"
    }
   ],
   "source": [
    "engine.add(mlir_text, passes)"
   ]
  },
  {
   "cell_type": "markdown",
   "id": "609299e5",
   "metadata": {},
   "source": [
    "Let's verify that converting to and from the same layout give correct results."
   ]
  },
  {
   "cell_type": "code",
   "execution_count": 17,
   "id": "abe7ff74",
   "metadata": {},
   "outputs": [],
   "source": [
    "csc_result = engine.csc_to_csc(csc_matrix)"
   ]
  },
  {
   "cell_type": "code",
   "execution_count": 18,
   "id": "012f7836",
   "metadata": {},
   "outputs": [
    {
     "data": {
      "text/plain": [
       "array([[1.1, 0. , 0. , 0. ],\n",
       "       [0. , 0. , 2.2, 0. ],\n",
       "       [0. , 0. , 0. , 0. ],\n",
       "       [0. , 0. , 0. , 0. ]])"
      ]
     },
     "execution_count": 18,
     "metadata": {},
     "output_type": "execute_result"
    }
   ],
   "source": [
    "densify_csc(csc_result)"
   ]
  },
  {
   "cell_type": "code",
   "execution_count": 19,
   "id": "73a12edd",
   "metadata": {},
   "outputs": [
    {
     "data": {
      "text/plain": [
       "True"
      ]
     },
     "execution_count": 19,
     "metadata": {},
     "output_type": "execute_result"
    }
   ],
   "source": [
    "np.all(dense_matrix == densify_csc(csc_result))"
   ]
  },
  {
   "cell_type": "code",
   "execution_count": 20,
   "id": "b3db9cbd",
   "metadata": {},
   "outputs": [],
   "source": [
    "csr_result = engine.csr_to_csr(csr_matrix)"
   ]
  },
  {
   "cell_type": "code",
   "execution_count": 21,
   "id": "552e4af8",
   "metadata": {},
   "outputs": [
    {
     "data": {
      "text/plain": [
       "array([[1.1, 0. , 0. , 0. ],\n",
       "       [0. , 0. , 2.2, 0. ],\n",
       "       [0. , 0. , 0. , 0. ],\n",
       "       [0. , 0. , 0. , 0. ]])"
      ]
     },
     "execution_count": 21,
     "metadata": {},
     "output_type": "execute_result"
    }
   ],
   "source": [
    "densify_csr(csr_result)"
   ]
  },
  {
   "cell_type": "code",
   "execution_count": 22,
   "id": "79809812",
   "metadata": {},
   "outputs": [
    {
     "data": {
      "text/plain": [
       "True"
      ]
     },
     "execution_count": 22,
     "metadata": {},
     "output_type": "execute_result"
    }
   ],
   "source": [
    "np.all(dense_matrix == densify_csr(csr_result))"
   ]
  },
  {
   "cell_type": "markdown",
   "id": "c8a95c00",
   "metadata": {},
   "source": [
    "## Overview of graphblas.transpose\n",
    "\n",
    "Here, we'll show how to use the `graphblas.transpose` op. \n",
    "\n",
    "`graphblas.transpose` returns a new sparse matrix that’s the transpose of the input matrix. Note that the behavior of this op differs depending on the sparse encoding of the specified output tensor type.\n",
    "\n",
    "The input/output behavior of `graphblas.transpose` is fairly simple. Our examples here aren't intended to show anything interesting but to merely act as reproducible references.\n",
    "\n",
    "The important thing to know about `graphblas.transpose` is how it is implemented.\n",
    "\n",
    "When transposing a CSC matrix to a CSR matrix, we simply need to swap the dimension sizes and reverse the indexing. Thus, the only \"real\" work done here is changing metadata. The same goes for transposing a CSC matrix to a CSR matrix.\n",
    "\n",
    "Here's an example of transposing a CSR matrix to a CSC matrix."
   ]
  },
  {
   "cell_type": "code",
   "execution_count": 23,
   "id": "b351ee46",
   "metadata": {},
   "outputs": [],
   "source": [
    "dense_matrix = np.array(\n",
    "    [\n",
    "        [1.1, 0. , 0. , 0. ],\n",
    "        [0. , 0. , 2.2, 0. ],\n",
    "    ],\n",
    "    dtype=np.float64,\n",
    ")\n",
    "\n",
    "csr_matrix = sparsify_array(dense_matrix, [False, True])"
   ]
  },
  {
   "cell_type": "code",
   "execution_count": 24,
   "id": "f3354601",
   "metadata": {},
   "outputs": [],
   "source": [
    "mlir_text = \"\"\"\n",
    "#CSR64 = #sparse_tensor.encoding<{\n",
    "  dimLevelType = [ \"dense\", \"compressed\" ],\n",
    "  dimOrdering = affine_map<(i,j) -> (i,j)>,\n",
    "  pointerBitWidth = 64,\n",
    "  indexBitWidth = 64\n",
    "}>\n",
    "\n",
    "#CSC64 = #sparse_tensor.encoding<{\n",
    "  dimLevelType = [ \"dense\", \"compressed\" ],\n",
    "  dimOrdering = affine_map<(i,j) -> (j,i)>,\n",
    "  pointerBitWidth = 64,\n",
    "  indexBitWidth = 64\n",
    "}>\n",
    "\n",
    "func @transpose_csr_to_csc(%sparse_tensor: tensor<?x?xf64, #CSR64>) -> tensor<?x?xf64, #CSC64> {\n",
    "    %answer = graphblas.transpose %sparse_tensor : tensor<?x?xf64, #CSR64> to tensor<?x?xf64, #CSC64>\n",
    "    return %answer : tensor<?x?xf64, #CSC64>\n",
    "}\n",
    "\"\"\""
   ]
  },
  {
   "cell_type": "code",
   "execution_count": 25,
   "id": "4ef602c3",
   "metadata": {},
   "outputs": [
    {
     "data": {
      "text/plain": [
       "['transpose_csr_to_csc']"
      ]
     },
     "execution_count": 25,
     "metadata": {},
     "output_type": "execute_result"
    }
   ],
   "source": [
    "engine.add(mlir_text, passes)"
   ]
  },
  {
   "cell_type": "code",
   "execution_count": 26,
   "id": "22065484",
   "metadata": {},
   "outputs": [],
   "source": [
    "csc_matrix_transpose = engine.transpose_csr_to_csc(csr_matrix)"
   ]
  },
  {
   "cell_type": "code",
   "execution_count": 27,
   "id": "69b67755",
   "metadata": {},
   "outputs": [
    {
     "data": {
      "text/plain": [
       "array([[1.1, 0. ],\n",
       "       [0. , 0. ],\n",
       "       [0. , 2.2],\n",
       "       [0. , 0. ]])"
      ]
     },
     "execution_count": 27,
     "metadata": {},
     "output_type": "execute_result"
    }
   ],
   "source": [
    "densify_csc(csc_matrix_transpose)"
   ]
  },
  {
   "cell_type": "code",
   "execution_count": 28,
   "id": "744e7499",
   "metadata": {},
   "outputs": [
    {
     "data": {
      "text/plain": [
       "True"
      ]
     },
     "execution_count": 28,
     "metadata": {},
     "output_type": "execute_result"
    }
   ],
   "source": [
    "np.all(dense_matrix.T == densify_csc(csc_matrix_transpose))"
   ]
  },
  {
   "cell_type": "markdown",
   "id": "2ee1833b",
   "metadata": {},
   "source": [
    "However, when we're transposing a CSR matrix and want to return a CSR matrix as well, there is \"real\" work that is done. This \"real\" work involves doing exactlly what `graphblas.convert_layout` does under the covers in addition to changing the metadata. The same goes for transposing a CSC matrix to a CSC matrix. \n",
    "\n",
    "The example below shows how to transpose a CSC mmatrix to a CSC matrix. "
   ]
  },
  {
   "cell_type": "code",
   "execution_count": 29,
   "id": "e8bf5959",
   "metadata": {},
   "outputs": [],
   "source": [
    "mlir_text = \"\"\"\n",
    "#CSR64 = #sparse_tensor.encoding<{\n",
    "  dimLevelType = [ \"dense\", \"compressed\" ],\n",
    "  dimOrdering = affine_map<(i,j) -> (i,j)>,\n",
    "  pointerBitWidth = 64,\n",
    "  indexBitWidth = 64\n",
    "}>\n",
    "\n",
    "#CSC64 = #sparse_tensor.encoding<{\n",
    "  dimLevelType = [ \"dense\", \"compressed\" ],\n",
    "  dimOrdering = affine_map<(i,j) -> (j,i)>,\n",
    "  pointerBitWidth = 64,\n",
    "  indexBitWidth = 64\n",
    "}>\n",
    "\n",
    "func @transpose_csc_to_csc(%sparse_tensor: tensor<?x?xf64, #CSC64>) -> tensor<?x?xf64, #CSC64> {\n",
    "    %answer = graphblas.transpose %sparse_tensor : tensor<?x?xf64, #CSC64> to tensor<?x?xf64, #CSC64>\n",
    "    return %answer : tensor<?x?xf64, #CSC64>\n",
    "}\n",
    "\"\"\""
   ]
  },
  {
   "cell_type": "code",
   "execution_count": 30,
   "id": "d3af8125",
   "metadata": {},
   "outputs": [
    {
     "data": {
      "text/plain": [
       "['transpose_csc_to_csc']"
      ]
     },
     "execution_count": 30,
     "metadata": {},
     "output_type": "execute_result"
    }
   ],
   "source": [
    "engine.add(mlir_text, passes)"
   ]
  },
  {
   "cell_type": "code",
   "execution_count": 31,
   "id": "3de08dd8",
   "metadata": {},
   "outputs": [],
   "source": [
    "csc_matrix = engine.transpose_csc_to_csc(csc_matrix_transpose)"
   ]
  },
  {
   "cell_type": "code",
   "execution_count": 32,
   "id": "94710d7e",
   "metadata": {},
   "outputs": [
    {
     "data": {
      "text/plain": [
       "array([[1.1, 0. , 0. , 0. ],\n",
       "       [0. , 0. , 2.2, 0. ]])"
      ]
     },
     "execution_count": 32,
     "metadata": {},
     "output_type": "execute_result"
    }
   ],
   "source": [
    "densify_csc(csc_matrix)"
   ]
  },
  {
   "cell_type": "code",
   "execution_count": 33,
   "id": "39f57da2",
   "metadata": {},
   "outputs": [
    {
     "data": {
      "text/plain": [
       "True"
      ]
     },
     "execution_count": 33,
     "metadata": {},
     "output_type": "execute_result"
    }
   ],
   "source": [
    "np.all(dense_matrix == densify_csc(csc_matrix))"
   ]
  }
 ],
 "metadata": {
  "kernelspec": {
   "display_name": "Python 3 (ipykernel)",
   "language": "python",
   "name": "python3"
  },
  "language_info": {
   "codemirror_mode": {
    "name": "ipython",
    "version": 3
   },
   "file_extension": ".py",
   "mimetype": "text/x-python",
   "name": "python",
   "nbconvert_exporter": "python",
   "pygments_lexer": "ipython3",
   "version": "3.8.10"
  }
 },
 "nbformat": 4,
 "nbformat_minor": 5
}
