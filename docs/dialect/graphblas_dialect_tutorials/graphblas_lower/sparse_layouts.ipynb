{
 "cells": [
  {
   "cell_type": "markdown",
   "id": "greenhouse-advocacy",
   "metadata": {},
   "source": [
    "# Working with Sparse Layouts in the GraphBLAS Dialect\n",
    "\n",
    "This example will go over how to use the `--graphblas-lower` pass from `graphblas-opt` to lower the GraphBLAS dialect ops that directly manipulate the layouts of sparse tensors. In particular, we'll focus on the `graphblas.convert_layout` and `graphblas.transpose` ops.\n",
    "\n",
    "Since the [ops reference](../../ops_reference.rst) already documents these ops with examples, we'll only briefly describe them here. \n",
    "\n",
    "Let’s first import some necessary modules and generate an instance of our JIT engine."
   ]
  },
  {
   "cell_type": "code",
   "execution_count": 1,
   "id": "selected-emphasis",
   "metadata": {},
   "outputs": [
    {
     "name": "stderr",
     "output_type": "stream",
     "text": [
      "Using development graphblas-opt: /Users/pnguyen/code/mlir-graphblas/mlir_graphblas/src/build/bin/graphblas-opt\n"
     ]
    }
   ],
   "source": [
    "import mlir_graphblas\n",
    "from mlir_graphblas.tools.utils import sparsify_array\n",
    "import numpy as np\n",
    "\n",
    "engine = mlir_graphblas.MlirJitEngine()"
   ]
  },
  {
   "cell_type": "markdown",
   "id": "swedish-franchise",
   "metadata": {},
   "source": [
    "## Overview of graphblas.convert_layout\n",
    "\n",
    "Here, we'll show how to use the `graphblas.convert_layout` op. \n",
    "\n",
    "This op takes 1 sparse matrix in CSR or CSC format and creates a new sparse matrix of the desired format.\n",
    "\n",
    "We'll give several examples below of how this will work.\n",
    "\n",
    "First, we'll define an example input CSR matrix."
   ]
  },
  {
   "cell_type": "code",
   "execution_count": 2,
   "id": "681a2d6e",
   "metadata": {},
   "outputs": [],
   "source": [
    "dense_matrix = np.array(\n",
    "    [\n",
    "        [1.1, 0. , 0. , 0. ],\n",
    "        [0. , 0. , 2.2, 0. ],\n",
    "        [0. , 0. , 0. , 0. ],\n",
    "        [0. , 0. , 0. , 0. ]\n",
    "    ],\n",
    "    dtype=np.float64,\n",
    ")\n",
    "\n",
    "csr_matrix = sparsify_array(dense_matrix, [False, True])"
   ]
  },
  {
   "cell_type": "markdown",
   "id": "e9633ac9",
   "metadata": {},
   "source": [
    "## graphblas.convert_layout (CSR->CSC)\n",
    "\n",
    "Let's convert this matrix to CSC format."
   ]
  },
  {
   "cell_type": "code",
   "execution_count": 3,
   "id": "pretty-balloon",
   "metadata": {},
   "outputs": [],
   "source": [
    "mlir_text = \"\"\"\n",
    "#CSR64 = #sparse_tensor.encoding<{\n",
    "  dimLevelType = [ \"dense\", \"compressed\" ],\n",
    "  dimOrdering = affine_map<(i,j) -> (i,j)>,\n",
    "  pointerBitWidth = 64,\n",
    "  indexBitWidth = 64\n",
    "}>\n",
    "\n",
    "#CSC64 = #sparse_tensor.encoding<{\n",
    "  dimLevelType = [ \"dense\", \"compressed\" ],\n",
    "  dimOrdering = affine_map<(i,j) -> (j,i)>,\n",
    "  pointerBitWidth = 64,\n",
    "  indexBitWidth = 64\n",
    "}>\n",
    "\n",
    "func @csr_to_csc(%sparse_tensor: tensor<?x?xf64, #CSR64>) -> tensor<?x?xf64, #CSC64> {\n",
    "    %answer = graphblas.convert_layout %sparse_tensor : tensor<?x?xf64, #CSR64> to tensor<?x?xf64, #CSC64>\n",
    "    return %answer : tensor<?x?xf64, #CSC64>\n",
    "}\n",
    "\"\"\""
   ]
  },
  {
   "cell_type": "markdown",
   "id": "9bef8dcd",
   "metadata": {},
   "source": [
    "Here are the passes we'll use."
   ]
  },
  {
   "cell_type": "code",
   "execution_count": 4,
   "id": "7df9d341",
   "metadata": {},
   "outputs": [],
   "source": [
    "passes = [\n",
    "    \"--graphblas-structuralize\",\n",
    "    \"--graphblas-optimize\",\n",
    "    \"--graphblas-lower\",\n",
    "    \"--sparsification\",\n",
    "    \"--sparse-tensor-conversion\",\n",
    "    \"--linalg-bufferize\",\n",
    "    \"--func-bufferize\",\n",
    "    \"--tensor-bufferize\",\n",
    "    \"--finalizing-bufferize\",\n",
    "    \"--convert-linalg-to-loops\",\n",
    "    \"--convert-vector-to-llvm\",\n",
    "    \"--convert-math-to-llvm\",\n",
    "    \"--convert-math-to-libm\",\n",
    "    \"--convert-scf-to-cf\",\n",
    "    \"--convert-memref-to-llvm\",\n",
    "    \"--convert-openmp-to-llvm\",\n",
    "    \"--convert-arith-to-llvm\",\n",
    "    \"--convert-std-to-llvm\",\n",
    "    \"--reconcile-unrealized-casts\",\n",
    "]"
   ]
  },
  {
   "cell_type": "code",
   "execution_count": 5,
   "id": "4bd7eadf",
   "metadata": {},
   "outputs": [
    {
     "data": {
      "text/plain": [
       "['csr_to_csc']"
      ]
     },
     "execution_count": 5,
     "metadata": {},
     "output_type": "execute_result"
    }
   ],
   "source": [
    "engine.add(mlir_text, passes)"
   ]
  },
  {
   "cell_type": "code",
   "execution_count": 6,
   "id": "8bf6b907",
   "metadata": {},
   "outputs": [],
   "source": [
    "csc_matrix = engine.csr_to_csc(csr_matrix)"
   ]
  },
  {
   "cell_type": "markdown",
   "id": "44c94236",
   "metadata": {
    "pycharm": {
     "name": "#%% md\n"
    }
   },
   "source": [
    "Let's look at the native arrays for `csc_matrix`, as well as the dense version."
   ]
  },
  {
   "cell_type": "code",
   "execution_count": 7,
   "id": "82700347",
   "metadata": {
    "pycharm": {
     "name": "#%%\n"
    }
   },
   "outputs": [
    {
     "name": "stdout",
     "output_type": "stream",
     "text": [
      "(array([], dtype=uint64), array([0, 1, 1, 2, 2], dtype=uint64))\n",
      "(array([], dtype=uint64), array([0, 1], dtype=uint64))\n",
      "[1.1 2.2]\n"
     ]
    }
   ],
   "source": [
    "print(csc_matrix.pointers)\n",
    "print(csc_matrix.indices)\n",
    "print(csc_matrix.values)"
   ]
  },
  {
   "cell_type": "code",
   "execution_count": 8,
   "id": "76df9fe9",
   "metadata": {},
   "outputs": [
    {
     "data": {
      "text/plain": [
       "array([[1.1, 0. , 0. , 0. ],\n",
       "       [0. , 0. , 2.2, 0. ],\n",
       "       [0. , 0. , 0. , 0. ],\n",
       "       [0. , 0. , 0. , 0. ]])"
      ]
     },
     "execution_count": 8,
     "metadata": {},
     "output_type": "execute_result"
    }
   ],
   "source": [
    "csc_matrix.toarray()"
   ]
  },
  {
   "cell_type": "code",
   "execution_count": 9,
   "id": "aef4a585",
   "metadata": {},
   "outputs": [
    {
     "data": {
      "text/plain": [
       "True"
      ]
     },
     "execution_count": 9,
     "metadata": {},
     "output_type": "execute_result"
    }
   ],
   "source": [
    "np.all(dense_matrix == csc_matrix.toarray())"
   ]
  },
  {
   "cell_type": "markdown",
   "id": "c8a95c00",
   "metadata": {},
   "source": [
    "## Overview of graphblas.transpose\n",
    "\n",
    "Here, we'll show how to use the `graphblas.transpose` op. \n",
    "\n",
    "`graphblas.transpose` returns a new sparse matrix that’s the transpose of the input matrix. Note that the behavior of this op differs depending on the sparse encoding of the specified output tensor type.\n",
    "\n",
    "The input/output behavior of `graphblas.transpose` is fairly simple. Our examples here aren't intended to show anything interesting but to merely act as reproducible references.\n",
    "\n",
    "The important thing to know about `graphblas.transpose` is how it is implemented.\n",
    "\n",
    "When transposing a CSC matrix to a CSR matrix, we simply need to swap the dimension sizes and reverse the indexing. Thus, the only \"real\" work done here is changing metadata. The same goes for transposing a CSC matrix to a CSR matrix.\n",
    "\n",
    "Here's an example of transposing a CSR matrix to a CSC matrix."
   ]
  },
  {
   "cell_type": "code",
   "execution_count": 10,
   "id": "b351ee46",
   "metadata": {},
   "outputs": [],
   "source": [
    "dense_matrix = np.array(\n",
    "    [\n",
    "        [1.1, 0. , 0. , 0. ],\n",
    "        [0. , 0. , 2.2, 0. ],\n",
    "    ],\n",
    "    dtype=np.float64,\n",
    ")\n",
    "\n",
    "csr_matrix = sparsify_array(dense_matrix, [False, True])"
   ]
  },
  {
   "cell_type": "code",
   "execution_count": 11,
   "id": "f3354601",
   "metadata": {},
   "outputs": [],
   "source": [
    "mlir_text = \"\"\"\n",
    "#CSR64 = #sparse_tensor.encoding<{\n",
    "  dimLevelType = [ \"dense\", \"compressed\" ],\n",
    "  dimOrdering = affine_map<(i,j) -> (i,j)>,\n",
    "  pointerBitWidth = 64,\n",
    "  indexBitWidth = 64\n",
    "}>\n",
    "\n",
    "#CSC64 = #sparse_tensor.encoding<{\n",
    "  dimLevelType = [ \"dense\", \"compressed\" ],\n",
    "  dimOrdering = affine_map<(i,j) -> (j,i)>,\n",
    "  pointerBitWidth = 64,\n",
    "  indexBitWidth = 64\n",
    "}>\n",
    "\n",
    "func @transpose_csr_to_csc(%sparse_tensor: tensor<?x?xf64, #CSR64>) -> tensor<?x?xf64, #CSC64> {\n",
    "    %answer = graphblas.transpose %sparse_tensor : tensor<?x?xf64, #CSR64> to tensor<?x?xf64, #CSC64>\n",
    "    return %answer : tensor<?x?xf64, #CSC64>\n",
    "}\n",
    "\"\"\""
   ]
  },
  {
   "cell_type": "code",
   "execution_count": 12,
   "id": "4ef602c3",
   "metadata": {},
   "outputs": [
    {
     "data": {
      "text/plain": [
       "['transpose_csr_to_csc']"
      ]
     },
     "execution_count": 12,
     "metadata": {},
     "output_type": "execute_result"
    }
   ],
   "source": [
    "engine.add(mlir_text, passes)"
   ]
  },
  {
   "cell_type": "code",
   "execution_count": 13,
   "id": "22065484",
   "metadata": {},
   "outputs": [],
   "source": [
    "csc_matrix_transpose = engine.transpose_csr_to_csc(csr_matrix)"
   ]
  },
  {
   "cell_type": "code",
   "execution_count": 14,
   "id": "69b67755",
   "metadata": {
    "pycharm": {
     "name": "#%%\n"
    }
   },
   "outputs": [
    {
     "data": {
      "text/plain": [
       "array([[1.1, 0. ],\n",
       "       [0. , 0. ],\n",
       "       [0. , 2.2],\n",
       "       [0. , 0. ]])"
      ]
     },
     "execution_count": 14,
     "metadata": {},
     "output_type": "execute_result"
    }
   ],
   "source": [
    "csc_matrix_transpose.toarray()"
   ]
  }
 ],
 "metadata": {
  "kernelspec": {
   "display_name": "Python 3 (ipykernel)",
   "language": "python",
   "name": "python3"
  },
  "language_info": {
   "codemirror_mode": {
    "name": "ipython",
    "version": 3
   },
   "file_extension": ".py",
   "mimetype": "text/x-python",
   "name": "python",
   "nbconvert_exporter": "python",
   "pygments_lexer": "ipython3",
   "version": "3.8.12"
  }
 },
 "nbformat": 4,
 "nbformat_minor": 5
}
