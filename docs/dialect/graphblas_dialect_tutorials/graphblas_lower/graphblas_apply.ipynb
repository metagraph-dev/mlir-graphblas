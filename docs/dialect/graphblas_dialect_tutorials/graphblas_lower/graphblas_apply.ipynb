{
 "cells": [
  {
   "cell_type": "markdown",
   "id": "5e37bc79",
   "metadata": {},
   "source": [
    "# graphblas.apply\n",
    "\n",
    "This example will go over how to use the `--graphblas-lower` pass from `graphblas-opt` to lower the `graphblas.apply` op.\n",
    "\n",
    "Let’s first import some necessary modules and generate an instance of our JIT engine."
   ]
  },
  {
   "cell_type": "code",
   "execution_count": 1,
   "id": "2e07aa14",
   "metadata": {},
   "outputs": [],
   "source": [
    "import mlir_graphblas\n",
    "import mlir_graphblas.sparse_utils\n",
    "import numpy as np\n",
    "\n",
    "engine = mlir_graphblas.MlirJitEngine()"
   ]
  },
  {
   "cell_type": "markdown",
   "id": "810ec81a",
   "metadata": {},
   "source": [
    "Here are the passes we'll use."
   ]
  },
  {
   "cell_type": "code",
   "execution_count": 2,
   "id": "a2e90887",
   "metadata": {},
   "outputs": [],
   "source": [
    "passes = [\n",
    "    \"--graphblas-lower\",\n",
    "    \"--sparsification\",\n",
    "    \"--sparse-tensor-conversion\",\n",
    "    \"--linalg-bufferize\",\n",
    "    \"--func-bufferize\",\n",
    "    \"--tensor-bufferize\",\n",
    "    \"--tensor-constant-bufferize\",\n",
    "    \"--finalizing-bufferize\",\n",
    "    \"--convert-linalg-to-loops\",\n",
    "    \"--convert-scf-to-std\",\n",
    "    \"--convert-memref-to-llvm\",\n",
    "    \"--convert-std-to-llvm\",\n",
    "]"
   ]
  },
  {
   "cell_type": "markdown",
   "id": "ebe9e06b",
   "metadata": {},
   "source": [
    "Similar to our examples using the GraphBLAS dialect, we'll need some helper functions to convert sparse tensors to dense tensors. "
   ]
  },
  {
   "cell_type": "code",
   "execution_count": 3,
   "id": "4d369c21",
   "metadata": {},
   "outputs": [],
   "source": [
    "mlir_text = \"\"\"\n",
    "#trait_densify_csr = {\n",
    "  indexing_maps = [\n",
    "    affine_map<(i,j) -> (i,j)>,\n",
    "    affine_map<(i,j) -> (i,j)>\n",
    "  ],\n",
    "  iterator_types = [\"parallel\", \"parallel\"]\n",
    "}\n",
    "\n",
    "#CSR64 = #sparse_tensor.encoding<{\n",
    "  dimLevelType = [ \"dense\", \"compressed\" ],\n",
    "  dimOrdering = affine_map<(i,j) -> (i,j)>,\n",
    "  pointerBitWidth = 64,\n",
    "  indexBitWidth = 64\n",
    "}>\n",
    "\n",
    "func @csr_densify4x4(%argA: tensor<4x4xf64, #CSR64>) -> tensor<4x4xf64> {\n",
    "  %output_storage = constant dense<0.0> : tensor<4x4xf64>\n",
    "  %0 = linalg.generic #trait_densify_csr\n",
    "    ins(%argA: tensor<4x4xf64, #CSR64>)\n",
    "    outs(%output_storage: tensor<4x4xf64>) {\n",
    "      ^bb(%A: f64, %x: f64):\n",
    "        linalg.yield %A : f64\n",
    "    } -> tensor<4x4xf64>\n",
    "  return %0 : tensor<4x4xf64>\n",
    "}\n",
    "\"\"\""
   ]
  },
  {
   "cell_type": "markdown",
   "id": "d7d6df66",
   "metadata": {},
   "source": [
    "Let's compile our MLIR code. "
   ]
  },
  {
   "cell_type": "code",
   "execution_count": 4,
   "id": "dff20d10",
   "metadata": {},
   "outputs": [
    {
     "data": {
      "text/plain": [
       "['csr_densify4x4']"
      ]
     },
     "execution_count": 4,
     "metadata": {},
     "output_type": "execute_result"
    }
   ],
   "source": [
    "engine.add(mlir_text, passes)"
   ]
  },
  {
   "cell_type": "markdown",
   "id": "a36d6717",
   "metadata": {},
   "source": [
    "## Overview of graphblas.apply\n",
    "\n",
    "Here, we'll show how to use the `graphblas.apply` op. \n",
    "\n",
    "`graphblas.apply` takes 1 sparse tensor operand (either a CSR matrix, a CSC matrix, or a sparse vector), a [thunk](https://en.wikipedia.org/wiki/Thunk) operand, and an `apply_operator` attribute. \n",
    "\n",
    "`graphblas.apply` applies element-wise the function indicated by the `apply_operator` attribute to each element and the thunk. The result will be have the same type as the input tensor.\n",
    "\n",
    "Here are some example uses of the `graphblas.apply` op:\n",
    "```\n",
    "%a = graphblas.apply %sparse_matrix, %thunk { apply_operator = \"min\" } : (tensor<?x?xf64, #CSR64>, f64) to tensor<?x?xf64, #CSR64>\n",
    "%b = graphblas.apply %sparse_matrix, %thunk { apply_operator = \"min\" } : (tensor<?x?xf64, #CSC64>, f64) to tensor<?x?xf64, #CSC64>\n",
    "%c = graphblas.apply %sparse_vector, %thunk { apply_operator = \"min\" } : (tensor<?xf64, #CSR64>, f64) to tensor<?xf64, #CSR64>\n",
    "```\n",
    "\n",
    "The only currently supported option for the `apply_operator` attribute is \"min\".\n",
    "\n",
    "Let's create an example input CSR matrix."
   ]
  },
  {
   "cell_type": "code",
   "execution_count": 5,
   "id": "e61f3d78",
   "metadata": {},
   "outputs": [],
   "source": [
    "indices = np.array(\n",
    "    [\n",
    "        [0, 3],\n",
    "        [1, 3],\n",
    "        [2, 0],\n",
    "        [3, 0],\n",
    "    ],\n",
    "    dtype=np.uint64,\n",
    ")\n",
    "values = np.array([111, 222, 333, 444], dtype=np.float64)\n",
    "sizes = np.array([4, 4], dtype=np.uint64)\n",
    "sparsity = np.array([False, True], dtype=np.bool8)\n",
    "\n",
    "csr_matrix = mlir_graphblas.sparse_utils.MLIRSparseTensor(indices, values, sizes, sparsity)"
   ]
  },
  {
   "cell_type": "code",
   "execution_count": 6,
   "id": "c28226cf",
   "metadata": {},
   "outputs": [],
   "source": [
    "dense_matrix = engine.csr_densify4x4(csr_matrix)"
   ]
  },
  {
   "cell_type": "code",
   "execution_count": 7,
   "id": "98547128",
   "metadata": {},
   "outputs": [
    {
     "data": {
      "text/plain": [
       "array([[  0.,   0.,   0., 111.],\n",
       "       [  0.,   0.,   0., 222.],\n",
       "       [333.,   0.,   0.,   0.],\n",
       "       [444.,   0.,   0.,   0.]])"
      ]
     },
     "execution_count": 7,
     "metadata": {},
     "output_type": "execute_result"
    }
   ],
   "source": [
    "dense_matrix"
   ]
  },
  {
   "cell_type": "markdown",
   "id": "893f8929",
   "metadata": {},
   "source": [
    "## graphblas.apply (Min)\n",
    "\n",
    "Here, we'll clip the values of a sparse matrix to be no higher than a given limit."
   ]
  },
  {
   "cell_type": "code",
   "execution_count": 8,
   "id": "c3df4772",
   "metadata": {},
   "outputs": [],
   "source": [
    "mlir_text = \"\"\"\n",
    "#CSR64 = #sparse_tensor.encoding<{\n",
    "  dimLevelType = [ \"dense\", \"compressed\" ],\n",
    "  dimOrdering = affine_map<(i,j) -> (i,j)>,\n",
    "  pointerBitWidth = 64,\n",
    "  indexBitWidth = 64\n",
    "}>\n",
    "\n",
    "module {\n",
    "    func @clip(%sparse_tensor: tensor<?x?xf64, #CSR64>, %limit: f64) -> tensor<?x?xf64, #CSR64> {\n",
    "        %answer = graphblas.apply %sparse_tensor, %limit { apply_operator = \"min\" } : (tensor<?x?xf64, #CSR64>, f64) to tensor<?x?xf64, #CSR64>\n",
    "        return %answer : tensor<?x?xf64, #CSR64>\n",
    "    }\n",
    "}\n",
    "\"\"\""
   ]
  },
  {
   "cell_type": "code",
   "execution_count": 9,
   "id": "42401ae5",
   "metadata": {},
   "outputs": [
    {
     "data": {
      "text/plain": [
       "['clip']"
      ]
     },
     "execution_count": 9,
     "metadata": {},
     "output_type": "execute_result"
    }
   ],
   "source": [
    "engine.add(mlir_text, passes)"
   ]
  },
  {
   "cell_type": "code",
   "execution_count": 10,
   "id": "274035dc",
   "metadata": {},
   "outputs": [],
   "source": [
    "sparse_result = engine.clip(csr_matrix, 200)"
   ]
  },
  {
   "cell_type": "code",
   "execution_count": 11,
   "id": "62e6cb76",
   "metadata": {},
   "outputs": [
    {
     "data": {
      "text/plain": [
       "array([[  0.,   0.,   0., 111.],\n",
       "       [  0.,   0.,   0., 200.],\n",
       "       [200.,   0.,   0.,   0.],\n",
       "       [200.,   0.,   0.,   0.]])"
      ]
     },
     "execution_count": 11,
     "metadata": {},
     "output_type": "execute_result"
    }
   ],
   "source": [
    "engine.csr_densify4x4(sparse_result)"
   ]
  },
  {
   "cell_type": "markdown",
   "id": "f15054ee",
   "metadata": {},
   "source": [
    "The result looks sane. Let's verify that it has the same behavior as NumPy."
   ]
  },
  {
   "cell_type": "code",
   "execution_count": 12,
   "id": "dcbee3c4",
   "metadata": {
    "scrolled": false
   },
   "outputs": [
    {
     "data": {
      "text/plain": [
       "True"
      ]
     },
     "execution_count": 12,
     "metadata": {},
     "output_type": "execute_result"
    }
   ],
   "source": [
    "expected_result = dense_matrix.copy()\n",
    "expected_result[expected_result>200] = 200\n",
    "np.all(expected_result == engine.csr_densify4x4(sparse_result))"
   ]
  },
  {
   "cell_type": "markdown",
   "id": "f4846f02",
   "metadata": {},
   "source": [
    "The way `graphblas.apply` works for CSC matrices and sparse vectors is similar. We'll leave exploring that as an exercise for the reader. "
   ]
  }
 ],
 "metadata": {
  "kernelspec": {
   "display_name": "Python 3 (ipykernel)",
   "language": "python",
   "name": "python3"
  },
  "language_info": {
   "codemirror_mode": {
    "name": "ipython",
    "version": 3
   },
   "file_extension": ".py",
   "mimetype": "text/x-python",
   "name": "python",
   "nbconvert_exporter": "python",
   "pygments_lexer": "ipython3",
   "version": "3.8.10"
  }
 },
 "nbformat": 4,
 "nbformat_minor": 5
}
