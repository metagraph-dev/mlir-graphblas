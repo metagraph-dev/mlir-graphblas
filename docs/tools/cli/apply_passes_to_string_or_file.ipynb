{
 "cells": [
  {
   "cell_type": "markdown",
   "id": "initial-keyboard",
   "metadata": {},
   "source": [
    "# Applying Passes to MLIR Code\n",
    "\n",
    "This tutorial will go over how to apply passes to MLIR code as a string or stored in files on disk using the mlir-opt CLI Wrapper.\n",
    "\n",
    "Let's first import some necessary modules and generate an instance of our mlir-opt CLI Wrapper. "
   ]
  },
  {
   "cell_type": "code",
   "execution_count": 1,
   "id": "lesser-intervention",
   "metadata": {},
   "outputs": [
    {
     "name": "stderr",
     "output_type": "stream",
     "text": [
      "Using development graphblas-opt: /Users/pnguyen/code/mlir-graphblas/mlir_graphblas/src/build/bin/graphblas-opt\n"
     ]
    }
   ],
   "source": [
    "import os\n",
    "import tempfile\n",
    "from mlir_graphblas import MlirOptCli\n",
    "\n",
    "cli = MlirOptCli(executable=None, options=None)"
   ]
  },
  {
   "cell_type": "markdown",
   "id": "religious-width",
   "metadata": {},
   "source": [
    "## Applying Passes to MLIR Strings\n",
    "\n",
    "Let's say we had the following MLIR code in Python as a string. The function `scale_func` scales each element of the given tensor by the given scalar."
   ]
  },
  {
   "cell_type": "code",
   "execution_count": 2,
   "id": "finished-prevention",
   "metadata": {},
   "outputs": [],
   "source": [
    "mlir_string = \"\"\"\n",
    "#trait_1d_scalar = {\n",
    "  indexing_maps = [\n",
    "    affine_map<(i) -> (i)>,  // A\n",
    "    affine_map<(i) -> (i)>   // X (out)\n",
    "  ],\n",
    "  iterator_types = [\"parallel\"],\n",
    "  doc = \"X(i) = A(i) OP Scalar\"\n",
    "}\n",
    "func @scale_func(%input: tensor<?xf32>, %scale: f32) -> tensor<?xf32> {\n",
    "  %0 = linalg.generic #trait_1d_scalar\n",
    "     ins(%input: tensor<?xf32>)\n",
    "     outs(%input: tensor<?xf32>) {\n",
    "      ^bb(%a: f32, %s: f32):\n",
    "        %0 = arith.mulf %a, %scale  : f32\n",
    "        linalg.yield %0 : f32\n",
    "  } -> tensor<?xf32>\n",
    "  return %0 : tensor<?xf32>\n",
    "}\n",
    "\"\"\""
   ]
  },
  {
   "cell_type": "markdown",
   "id": "tribal-intelligence",
   "metadata": {},
   "source": [
    "Let's say we wanted to run some passes over this MLIR code. "
   ]
  },
  {
   "cell_type": "code",
   "execution_count": 3,
   "id": "classified-disney",
   "metadata": {},
   "outputs": [],
   "source": [
    "passes = [\n",
    "    \"--linalg-bufferize\",\n",
    "    \"--func-bufferize\",\n",
    "    \"--finalizing-bufferize\",\n",
    "    \"--convert-linalg-to-affine-loops\",\n",
    "    \"--lower-affine\",\n",
    "    \"--convert-scf-to-cf\",\n",
    "]"
   ]
  },
  {
   "cell_type": "markdown",
   "id": "compliant-netherlands",
   "metadata": {},
   "source": [
    "We'll need our string as a [bytes literal](https://docs.python.org/3/library/stdtypes.html#bytes)."
   ]
  },
  {
   "cell_type": "code",
   "execution_count": 4,
   "id": "intermediate-standing",
   "metadata": {},
   "outputs": [],
   "source": [
    "mlir_bytes = mlir_string.encode()"
   ]
  },
  {
   "cell_type": "markdown",
   "id": "grand-utilization",
   "metadata": {},
   "source": [
    "We can now run passes over our MLIR code like so:"
   ]
  },
  {
   "cell_type": "code",
   "execution_count": 5,
   "id": "little-bennett",
   "metadata": {},
   "outputs": [
    {
     "name": "stdout",
     "output_type": "stream",
     "text": [
      "module {\n",
      "  func @scale_func(%arg0: memref<?xf32>, %arg1: f32) -> memref<?xf32> {\n",
      "    %c0 = arith.constant 0 : index\n",
      "    %0 = memref.dim %arg0, %c0 : memref<?xf32>\n",
      "    %1 = memref.alloc(%0) : memref<?xf32>\n",
      "    %2 = memref.dim %arg0, %c0 : memref<?xf32>\n",
      "    %c0_0 = arith.constant 0 : index\n",
      "    %c1 = arith.constant 1 : index\n",
      "    cf.br ^bb1(%c0_0 : index)\n",
      "  ^bb1(%3: index):  // 2 preds: ^bb0, ^bb2\n",
      "    %4 = arith.cmpi slt, %3, %2 : index\n",
      "    cf.cond_br %4, ^bb2, ^bb3\n",
      "  ^bb2:  // pred: ^bb1\n",
      "    %5 = memref.load %arg0[%3] : memref<?xf32>\n",
      "    %6 = arith.mulf %5, %arg1 : f32\n",
      "    memref.store %6, %1[%3] : memref<?xf32>\n",
      "    %7 = arith.addi %3, %c1 : index\n",
      "    cf.br ^bb1(%7 : index)\n",
      "  ^bb3:  // pred: ^bb1\n",
      "    return %1 : memref<?xf32>\n",
      "  }\n",
      "}\n",
      "\n",
      "\n"
     ]
    }
   ],
   "source": [
    "result = cli.apply_passes(mlir_bytes, passes)\n",
    "print(result)"
   ]
  },
  {
   "cell_type": "markdown",
   "id": "suffering-cursor",
   "metadata": {},
   "source": [
    "## Applying Passes to MLIR Files on Disk\n",
    "\n",
    "Let's say that we have some MLIR file on our machine we want to run passes over. We'll create a temporary file for our example here and use the same MLIR code and passes as above. "
   ]
  },
  {
   "cell_type": "code",
   "execution_count": 6,
   "id": "blessed-event",
   "metadata": {},
   "outputs": [],
   "source": [
    "temporary_directory = tempfile.TemporaryDirectory()\n",
    "temporary_filename = os.path.join(temporary_directory.name, \"example.mlir\")\n",
    "with open(temporary_filename, 'w') as f:\n",
    "    f.write(mlir_string)"
   ]
  },
  {
   "cell_type": "markdown",
   "id": "indirect-romance",
   "metadata": {},
   "source": [
    "We can run these passes over our file using the `apply_passes` method of `MlirOptCli` to get a string containing the lowered IR:"
   ]
  },
  {
   "cell_type": "code",
   "execution_count": 7,
   "id": "single-papua",
   "metadata": {},
   "outputs": [
    {
     "name": "stdout",
     "output_type": "stream",
     "text": [
      "module {\n",
      "  func @scale_func(%arg0: memref<?xf32>, %arg1: f32) -> memref<?xf32> {\n",
      "    %c0 = arith.constant 0 : index\n",
      "    %0 = memref.dim %arg0, %c0 : memref<?xf32>\n",
      "    %1 = memref.alloc(%0) : memref<?xf32>\n",
      "    %2 = memref.dim %arg0, %c0 : memref<?xf32>\n",
      "    %c0_0 = arith.constant 0 : index\n",
      "    %c1 = arith.constant 1 : index\n",
      "    cf.br ^bb1(%c0_0 : index)\n",
      "  ^bb1(%3: index):  // 2 preds: ^bb0, ^bb2\n",
      "    %4 = arith.cmpi slt, %3, %2 : index\n",
      "    cf.cond_br %4, ^bb2, ^bb3\n",
      "  ^bb2:  // pred: ^bb1\n",
      "    %5 = memref.load %arg0[%3] : memref<?xf32>\n",
      "    %6 = arith.mulf %5, %arg1 : f32\n",
      "    memref.store %6, %1[%3] : memref<?xf32>\n",
      "    %7 = arith.addi %3, %c1 : index\n",
      "    cf.br ^bb1(%7 : index)\n",
      "  ^bb3:  // pred: ^bb1\n",
      "    return %1 : memref<?xf32>\n",
      "  }\n",
      "}\n",
      "\n",
      "\n"
     ]
    }
   ],
   "source": [
    "result = cli.apply_passes(temporary_filename, passes)\n",
    "print(result)"
   ]
  },
  {
   "cell_type": "markdown",
   "id": "removed-wallpaper",
   "metadata": {},
   "source": [
    "Let's make sure to clean up the temporary directory we created earlier. "
   ]
  },
  {
   "cell_type": "code",
   "execution_count": 8,
   "id": "white-space",
   "metadata": {},
   "outputs": [],
   "source": [
    "temporary_directory.cleanup()"
   ]
  }
 ],
 "metadata": {
  "kernelspec": {
   "display_name": "Python 3 (ipykernel)",
   "language": "python",
   "name": "python3"
  },
  "language_info": {
   "codemirror_mode": {
    "name": "ipython",
    "version": 3
   },
   "file_extension": ".py",
   "mimetype": "text/x-python",
   "name": "python",
   "nbconvert_exporter": "python",
   "pygments_lexer": "ipython3",
   "version": "3.8.12"
  }
 },
 "nbformat": 4,
 "nbformat_minor": 5
}
