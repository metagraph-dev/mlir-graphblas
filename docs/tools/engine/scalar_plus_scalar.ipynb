{
 "cells": [
  {
   "cell_type": "markdown",
   "id": "funny-essence",
   "metadata": {},
   "source": [
    "# JIT Engine: Scalar + Scalar\n",
    "\n",
    "This example will go over how to compile MLIR code to a function callable from Python. \n",
    "\n",
    "The example MLIR code we'll use here performs scalar addition.\n",
    "\n",
    "Let’s first import some necessary modules and generate an instance of our JIT engine."
   ]
  },
  {
   "cell_type": "code",
   "execution_count": 12,
   "id": "experimental-genre",
   "metadata": {},
   "outputs": [],
   "source": [
    "import mlir_graphblas\n",
    "import numpy as np\n",
    "\n",
    "engine = mlir_graphblas.MlirJitEngine()"
   ]
  },
  {
   "cell_type": "markdown",
   "id": "guided-certification",
   "metadata": {},
   "source": [
    "Here's some MLIR code to add two 32-bit floating point numbers. "
   ]
  },
  {
   "cell_type": "code",
   "execution_count": 2,
   "id": "rural-contact",
   "metadata": {},
   "outputs": [],
   "source": [
    "mlir_text = r\"\"\"\n",
    "func @scalar_add_f32(%a: f32, %b: f32) -> f32 {\n",
    "  %ans = arith.addf %a, %b : f32\n",
    "  return %ans : f32\n",
    "}\n",
    "\"\"\""
   ]
  },
  {
   "cell_type": "markdown",
   "id": "impressed-shower",
   "metadata": {},
   "source": [
    "Let's say we wanted to optimize our code with the following [MLIR passes](https://mlir.llvm.org/docs/Passes/):"
   ]
  },
  {
   "cell_type": "code",
   "execution_count": 3,
   "id": "bridal-publicity",
   "metadata": {},
   "outputs": [],
   "source": [
    "passes = [\n",
    "    \"--linalg-bufferize\",\n",
    "    \"--func-bufferize\",\n",
    "    \"--tensor-bufferize\",\n",
    "    \"--tensor-constant-bufferize\",\n",
    "    \"--finalizing-bufferize\",\n",
    "    \"--convert-linalg-to-loops\",\n",
    "    \"--convert-scf-to-std\",\n",
    "    \"--convert-arith-to-llvm\",\n",
    "    \"--convert-math-to-llvm\",\n",
    "    \"--convert-std-to-llvm\",\n",
    "]"
   ]
  },
  {
   "cell_type": "markdown",
   "id": "confidential-northern",
   "metadata": {},
   "source": [
    "We can compile the MLIR code using our JIT engine."
   ]
  },
  {
   "cell_type": "code",
   "execution_count": 4,
   "id": "stylish-jewel",
   "metadata": {},
   "outputs": [
    {
     "data": {
      "text/plain": [
       "['scalar_add_f32']"
      ]
     },
     "execution_count": 4,
     "metadata": {},
     "output_type": "execute_result"
    }
   ],
   "source": [
    "engine.add(mlir_text, passes)"
   ]
  },
  {
   "cell_type": "markdown",
   "id": "legal-pastor",
   "metadata": {},
   "source": [
    "The returned value above is a list of the names of all functions compiled in the given MLIR code. \n",
    "\n",
    "We can access the compiled Python callables in two ways:"
   ]
  },
  {
   "cell_type": "code",
   "execution_count": 5,
   "id": "future-failing",
   "metadata": {},
   "outputs": [],
   "source": [
    "func_1 = engine['scalar_add_f32']\n",
    "func_2 = engine.scalar_add_f32"
   ]
  },
  {
   "cell_type": "markdown",
   "id": "scenic-semester",
   "metadata": {},
   "source": [
    "They both point to the same function:"
   ]
  },
  {
   "cell_type": "code",
   "execution_count": 6,
   "id": "statistical-cambridge",
   "metadata": {},
   "outputs": [
    {
     "data": {
      "text/plain": [
       "True"
      ]
     },
     "execution_count": 6,
     "metadata": {},
     "output_type": "execute_result"
    }
   ],
   "source": [
    "func_1 is func_2"
   ]
  },
  {
   "cell_type": "markdown",
   "id": "ordered-cheat",
   "metadata": {},
   "source": [
    "We can call our function in Python:"
   ]
  },
  {
   "cell_type": "code",
   "execution_count": 7,
   "id": "median-express",
   "metadata": {},
   "outputs": [
    {
     "data": {
      "text/plain": [
       "300.0"
      ]
     },
     "execution_count": 7,
     "metadata": {},
     "output_type": "execute_result"
    }
   ],
   "source": [
    "scalar_add_f32 = engine.scalar_add_f32\n",
    "scalar_add_f32(100.0, 200.0)"
   ]
  },
  {
   "cell_type": "markdown",
   "id": "joint-honduras",
   "metadata": {},
   "source": [
    "Let's try creating a function to add two 8-bit integers."
   ]
  },
  {
   "cell_type": "code",
   "execution_count": 9,
   "id": "stable-slovenia",
   "metadata": {},
   "outputs": [],
   "source": [
    "mlir_text = r\"\"\"\n",
    "func @scalar_add_i8(%a: i8, %b: i8) -> i8 {\n",
    "  %ans = arith.addi %a, %b : i8\n",
    "  return %ans : i8\n",
    "}\n",
    "\"\"\"\n",
    "engine.add(mlir_text, passes)\n",
    "scalar_add_i8 = engine.scalar_add_i8"
   ]
  },
  {
   "cell_type": "markdown",
   "id": "secondary-macedonia",
   "metadata": {},
   "source": [
    "Let's verify that it works."
   ]
  },
  {
   "cell_type": "code",
   "execution_count": 10,
   "id": "configured-problem",
   "metadata": {},
   "outputs": [
    {
     "data": {
      "text/plain": [
       "70"
      ]
     },
     "execution_count": 10,
     "metadata": {},
     "output_type": "execute_result"
    }
   ],
   "source": [
    "scalar_add_i8(30, 40)"
   ]
  },
  {
   "cell_type": "markdown",
   "id": "proper-pocket",
   "metadata": {},
   "source": [
    "What happens if we give invalid inputs, e.g. integers too large to fit into 8-bits? "
   ]
  },
  {
   "cell_type": "code",
   "execution_count": 11,
   "id": "entitled-atlas",
   "metadata": {},
   "outputs": [
    {
     "ename": "TypeError",
     "evalue": "9999 cannot be cast to <class 'numpy.int8'>",
     "output_type": "error",
     "traceback": [
      "\u001b[0;31m---------------------------------------------------------------------------\u001b[0m",
      "\u001b[0;31mTypeError\u001b[0m                                 Traceback (most recent call last)",
      "\u001b[0;32m/var/folders/yj/nmf5xtns3hx6qgdnybj964q80000gp/T/ipykernel_63061/1410601357.py\u001b[0m in \u001b[0;36m<module>\u001b[0;34m\u001b[0m\n\u001b[0;32m----> 1\u001b[0;31m \u001b[0mscalar_add_i8\u001b[0m\u001b[0;34m(\u001b[0m\u001b[0;36m9999\u001b[0m\u001b[0;34m,\u001b[0m \u001b[0;36m9999\u001b[0m\u001b[0;34m)\u001b[0m\u001b[0;34m\u001b[0m\u001b[0;34m\u001b[0m\u001b[0m\n\u001b[0m",
      "\u001b[0;32m~/code/mlir-graphblas/mlir_graphblas/engine.py\u001b[0m in \u001b[0;36mpython_callable\u001b[0;34m(mlir_function, encoders, c_callable, decoder, *args)\u001b[0m\n\u001b[1;32m    841\u001b[0m                     )\n\u001b[1;32m    842\u001b[0m                 \u001b[0mencoded_args\u001b[0m \u001b[0;34m=\u001b[0m \u001b[0;34m(\u001b[0m\u001b[0mencoder\u001b[0m\u001b[0;34m(\u001b[0m\u001b[0marg\u001b[0m\u001b[0;34m)\u001b[0m \u001b[0;32mfor\u001b[0m \u001b[0marg\u001b[0m\u001b[0;34m,\u001b[0m \u001b[0mencoder\u001b[0m \u001b[0;32min\u001b[0m \u001b[0mzip\u001b[0m\u001b[0;34m(\u001b[0m\u001b[0margs\u001b[0m\u001b[0;34m,\u001b[0m \u001b[0mencoders\u001b[0m\u001b[0;34m)\u001b[0m\u001b[0;34m)\u001b[0m\u001b[0;34m\u001b[0m\u001b[0;34m\u001b[0m\u001b[0m\n\u001b[0;32m--> 843\u001b[0;31m                 \u001b[0mencoded_args\u001b[0m \u001b[0;34m=\u001b[0m \u001b[0msum\u001b[0m\u001b[0;34m(\u001b[0m\u001b[0mencoded_args\u001b[0m\u001b[0;34m,\u001b[0m \u001b[0;34m[\u001b[0m\u001b[0;34m]\u001b[0m\u001b[0;34m)\u001b[0m\u001b[0;34m\u001b[0m\u001b[0;34m\u001b[0m\u001b[0m\n\u001b[0m\u001b[1;32m    844\u001b[0m                 \u001b[0mencoded_result\u001b[0m \u001b[0;34m=\u001b[0m \u001b[0mc_callable\u001b[0m\u001b[0;34m(\u001b[0m\u001b[0;34m*\u001b[0m\u001b[0mencoded_args\u001b[0m\u001b[0;34m)\u001b[0m\u001b[0;34m\u001b[0m\u001b[0;34m\u001b[0m\u001b[0m\n\u001b[1;32m    845\u001b[0m                 \u001b[0mresult\u001b[0m \u001b[0;34m=\u001b[0m \u001b[0mdecoder\u001b[0m\u001b[0;34m(\u001b[0m\u001b[0mencoded_result\u001b[0m\u001b[0;34m)\u001b[0m\u001b[0;34m\u001b[0m\u001b[0;34m\u001b[0m\u001b[0m\n",
      "\u001b[0;32m~/code/mlir-graphblas/mlir_graphblas/engine.py\u001b[0m in \u001b[0;36m<genexpr>\u001b[0;34m(.0)\u001b[0m\n\u001b[1;32m    840\u001b[0m                         \u001b[0;34mf\"{name} expected {len(mlir_function.args)} args but got {len(args)}.\"\u001b[0m\u001b[0;34m\u001b[0m\u001b[0;34m\u001b[0m\u001b[0m\n\u001b[1;32m    841\u001b[0m                     )\n\u001b[0;32m--> 842\u001b[0;31m                 \u001b[0mencoded_args\u001b[0m \u001b[0;34m=\u001b[0m \u001b[0;34m(\u001b[0m\u001b[0mencoder\u001b[0m\u001b[0;34m(\u001b[0m\u001b[0marg\u001b[0m\u001b[0;34m)\u001b[0m \u001b[0;32mfor\u001b[0m \u001b[0marg\u001b[0m\u001b[0;34m,\u001b[0m \u001b[0mencoder\u001b[0m \u001b[0;32min\u001b[0m \u001b[0mzip\u001b[0m\u001b[0;34m(\u001b[0m\u001b[0margs\u001b[0m\u001b[0;34m,\u001b[0m \u001b[0mencoders\u001b[0m\u001b[0;34m)\u001b[0m\u001b[0;34m)\u001b[0m\u001b[0;34m\u001b[0m\u001b[0;34m\u001b[0m\u001b[0m\n\u001b[0m\u001b[1;32m    843\u001b[0m                 \u001b[0mencoded_args\u001b[0m \u001b[0;34m=\u001b[0m \u001b[0msum\u001b[0m\u001b[0;34m(\u001b[0m\u001b[0mencoded_args\u001b[0m\u001b[0;34m,\u001b[0m \u001b[0;34m[\u001b[0m\u001b[0;34m]\u001b[0m\u001b[0;34m)\u001b[0m\u001b[0;34m\u001b[0m\u001b[0;34m\u001b[0m\u001b[0m\n\u001b[1;32m    844\u001b[0m                 \u001b[0mencoded_result\u001b[0m \u001b[0;34m=\u001b[0m \u001b[0mc_callable\u001b[0m\u001b[0;34m(\u001b[0m\u001b[0;34m*\u001b[0m\u001b[0mencoded_args\u001b[0m\u001b[0;34m)\u001b[0m\u001b[0;34m\u001b[0m\u001b[0;34m\u001b[0m\u001b[0m\n",
      "\u001b[0;32m~/code/mlir-graphblas/mlir_graphblas/engine.py\u001b[0m in \u001b[0;36mencoder\u001b[0;34m(arg)\u001b[0m\n\u001b[1;32m    482\u001b[0m             \u001b[0mcan_cast\u001b[0m \u001b[0;34m=\u001b[0m \u001b[0;32mFalse\u001b[0m\u001b[0;34m\u001b[0m\u001b[0;34m\u001b[0m\u001b[0m\n\u001b[1;32m    483\u001b[0m         \u001b[0;32mif\u001b[0m \u001b[0;32mnot\u001b[0m \u001b[0mcan_cast\u001b[0m\u001b[0;34m:\u001b[0m\u001b[0;34m\u001b[0m\u001b[0;34m\u001b[0m\u001b[0m\n\u001b[0;32m--> 484\u001b[0;31m             \u001b[0;32mraise\u001b[0m \u001b[0mTypeError\u001b[0m\u001b[0;34m(\u001b[0m\u001b[0;34mf\"{repr(arg)} cannot be cast to {np_type}\"\u001b[0m\u001b[0;34m)\u001b[0m\u001b[0;34m\u001b[0m\u001b[0;34m\u001b[0m\u001b[0m\n\u001b[0m\u001b[1;32m    485\u001b[0m         \u001b[0;32mif\u001b[0m \u001b[0;32mnot\u001b[0m \u001b[0misinstance\u001b[0m\u001b[0;34m(\u001b[0m\u001b[0marg\u001b[0m\u001b[0;34m,\u001b[0m \u001b[0;34m(\u001b[0m\u001b[0mnp\u001b[0m\u001b[0;34m.\u001b[0m\u001b[0mnumber\u001b[0m\u001b[0;34m,\u001b[0m \u001b[0mint\u001b[0m\u001b[0;34m,\u001b[0m \u001b[0mfloat\u001b[0m\u001b[0;34m)\u001b[0m\u001b[0;34m)\u001b[0m\u001b[0;34m:\u001b[0m\u001b[0;34m\u001b[0m\u001b[0;34m\u001b[0m\u001b[0m\n\u001b[1;32m    486\u001b[0m             raise TypeError(\n",
      "\u001b[0;31mTypeError\u001b[0m: 9999 cannot be cast to <class 'numpy.int8'>"
     ]
    }
   ],
   "source": [
    "scalar_add_i8(9999, 9999)"
   ]
  },
  {
   "cell_type": "markdown",
   "id": "absent-shooting",
   "metadata": {},
   "source": [
    "We get an exception! There's some input and output type checking that takes place in compiled callables, so there's some safety provided by the JIT Engine."
   ]
  }
 ],
 "metadata": {
  "kernelspec": {
   "display_name": "Python 3 (ipykernel)",
   "language": "python",
   "name": "python3"
  },
  "language_info": {
   "codemirror_mode": {
    "name": "ipython",
    "version": 3
   },
   "file_extension": ".py",
   "mimetype": "text/x-python",
   "name": "python",
   "nbconvert_exporter": "python",
   "pygments_lexer": "ipython3",
   "version": "3.8.12"
  }
 },
 "nbformat": 4,
 "nbformat_minor": 5
}
