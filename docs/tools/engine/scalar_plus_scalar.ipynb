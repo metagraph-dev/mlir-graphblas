{
 "cells": [
  {
   "cell_type": "markdown",
   "id": "funny-essence",
   "metadata": {},
   "source": [
    "# JIT Engine: Scalar + Scalar\n",
    "\n",
    "This example will go over how to compile MLIR code to a function callable from Python. \n",
    "\n",
    "The example MLIR code we'll use here performs scalar addition.\n",
    "\n",
    "Let’s first import some necessary modules and generate an instance of our JIT engine."
   ]
  },
  {
   "cell_type": "code",
   "execution_count": 1,
   "id": "experimental-genre",
   "metadata": {},
   "outputs": [
    {
     "name": "stderr",
     "output_type": "stream",
     "text": [
      "Using development graphblas-opt: /Users/pnguyen/code/mlir-graphblas/mlir_graphblas/src/build/bin/graphblas-opt\n"
     ]
    }
   ],
   "source": [
    "import mlir_graphblas\n",
    "import numpy as np\n",
    "\n",
    "engine = mlir_graphblas.MlirJitEngine()"
   ]
  },
  {
   "cell_type": "markdown",
   "id": "guided-certification",
   "metadata": {},
   "source": [
    "Here's some MLIR code to add two 32-bit floating point numbers. "
   ]
  },
  {
   "cell_type": "code",
   "execution_count": 2,
   "id": "rural-contact",
   "metadata": {},
   "outputs": [],
   "source": [
    "mlir_text = r\"\"\"\n",
    "func @scalar_add_f32(%a: f32, %b: f32) -> f32 {\n",
    "  %ans = arith.addf %a, %b : f32\n",
    "  return %ans : f32\n",
    "}\n",
    "\"\"\""
   ]
  },
  {
   "cell_type": "markdown",
   "id": "impressed-shower",
   "metadata": {},
   "source": [
    "Let's say we wanted to optimize our code with the following [MLIR passes](https://mlir.llvm.org/docs/Passes/):"
   ]
  },
  {
   "cell_type": "code",
   "execution_count": 3,
   "id": "bridal-publicity",
   "metadata": {},
   "outputs": [],
   "source": [
    "passes = [\n",
    "    \"--linalg-bufferize\",\n",
    "    \"--func-bufferize\",\n",
    "    \"--tensor-bufferize\",\n",
    "    \"--finalizing-bufferize\",\n",
    "    \"--convert-linalg-to-loops\",\n",
    "    \"--convert-scf-to-cf\",\n",
    "    \"--convert-arith-to-llvm\",\n",
    "    \"--convert-math-to-llvm\",\n",
    "    \"--convert-std-to-llvm\",\n",
    "]"
   ]
  },
  {
   "cell_type": "markdown",
   "id": "confidential-northern",
   "metadata": {},
   "source": [
    "We can compile the MLIR code using our JIT engine."
   ]
  },
  {
   "cell_type": "code",
   "execution_count": 4,
   "id": "stylish-jewel",
   "metadata": {},
   "outputs": [
    {
     "data": {
      "text/plain": [
       "['scalar_add_f32']"
      ]
     },
     "execution_count": 4,
     "metadata": {},
     "output_type": "execute_result"
    }
   ],
   "source": [
    "engine.add(mlir_text, passes)"
   ]
  },
  {
   "cell_type": "markdown",
   "id": "legal-pastor",
   "metadata": {},
   "source": [
    "The returned value above is a list of the names of all functions compiled in the given MLIR code. \n",
    "\n",
    "We can access the compiled Python callables in two ways:"
   ]
  },
  {
   "cell_type": "code",
   "execution_count": 5,
   "id": "future-failing",
   "metadata": {},
   "outputs": [],
   "source": [
    "func_1 = engine['scalar_add_f32']\n",
    "func_2 = engine.scalar_add_f32"
   ]
  },
  {
   "cell_type": "markdown",
   "id": "scenic-semester",
   "metadata": {},
   "source": [
    "They both point to the same function:"
   ]
  },
  {
   "cell_type": "code",
   "execution_count": 6,
   "id": "statistical-cambridge",
   "metadata": {},
   "outputs": [
    {
     "data": {
      "text/plain": [
       "True"
      ]
     },
     "execution_count": 6,
     "metadata": {},
     "output_type": "execute_result"
    }
   ],
   "source": [
    "func_1 is func_2"
   ]
  },
  {
   "cell_type": "markdown",
   "id": "ordered-cheat",
   "metadata": {},
   "source": [
    "We can call our function in Python:"
   ]
  },
  {
   "cell_type": "code",
   "execution_count": 7,
   "id": "median-express",
   "metadata": {},
   "outputs": [
    {
     "data": {
      "text/plain": [
       "300.0"
      ]
     },
     "execution_count": 7,
     "metadata": {},
     "output_type": "execute_result"
    }
   ],
   "source": [
    "scalar_add_f32 = engine.scalar_add_f32\n",
    "scalar_add_f32(100.0, 200.0)"
   ]
  },
  {
   "cell_type": "markdown",
   "id": "joint-honduras",
   "metadata": {},
   "source": [
    "Let's try creating a function to add two 8-bit integers."
   ]
  },
  {
   "cell_type": "code",
   "execution_count": 8,
   "id": "stable-slovenia",
   "metadata": {},
   "outputs": [],
   "source": [
    "mlir_text = r\"\"\"\n",
    "func @scalar_add_i8(%a: i8, %b: i8) -> i8 {\n",
    "  %ans = arith.addi %a, %b : i8\n",
    "  return %ans : i8\n",
    "}\n",
    "\"\"\"\n",
    "engine.add(mlir_text, passes)\n",
    "scalar_add_i8 = engine.scalar_add_i8"
   ]
  },
  {
   "cell_type": "markdown",
   "id": "secondary-macedonia",
   "metadata": {},
   "source": [
    "Let's verify that it works."
   ]
  },
  {
   "cell_type": "code",
   "execution_count": 9,
   "id": "configured-problem",
   "metadata": {},
   "outputs": [
    {
     "data": {
      "text/plain": [
       "70"
      ]
     },
     "execution_count": 9,
     "metadata": {},
     "output_type": "execute_result"
    }
   ],
   "source": [
    "scalar_add_i8(30, 40)"
   ]
  },
  {
   "cell_type": "markdown",
   "id": "proper-pocket",
   "metadata": {},
   "source": [
    "What happens if we give invalid inputs, e.g. integers too large to fit into 8-bits? "
   ]
  },
  {
   "cell_type": "code",
   "execution_count": 10,
   "id": "entitled-atlas",
   "metadata": {},
   "outputs": [
    {
     "ename": "TypeError",
     "evalue": "9999 cannot be cast to <class 'numpy.int8'>",
     "output_type": "error",
     "traceback": [
      "\u001b[0;31m---------------------------------------------------------------------------\u001b[0m",
      "\u001b[0;31mTypeError\u001b[0m                                 Traceback (most recent call last)",
      "Input \u001b[0;32mIn [10]\u001b[0m, in \u001b[0;36m<cell line: 1>\u001b[0;34m()\u001b[0m\n\u001b[0;32m----> 1\u001b[0m \u001b[43mscalar_add_i8\u001b[49m\u001b[43m(\u001b[49m\u001b[38;5;241;43m9999\u001b[39;49m\u001b[43m,\u001b[49m\u001b[43m \u001b[49m\u001b[38;5;241;43m9999\u001b[39;49m\u001b[43m)\u001b[49m\n",
      "File \u001b[0;32m~/code/mlir-graphblas/mlir_graphblas/engine.py:843\u001b[0m, in \u001b[0;36mMlirJitEngine._generate_zero_or_single_valued_functions.<locals>.python_callable\u001b[0;34m(mlir_function, encoders, c_callable, decoder, *args)\u001b[0m\n\u001b[1;32m    839\u001b[0m     \u001b[38;5;28;01mraise\u001b[39;00m \u001b[38;5;167;01mValueError\u001b[39;00m(\n\u001b[1;32m    840\u001b[0m         \u001b[38;5;124mf\u001b[39m\u001b[38;5;124m\"\u001b[39m\u001b[38;5;132;01m{\u001b[39;00mname\u001b[38;5;132;01m}\u001b[39;00m\u001b[38;5;124m expected \u001b[39m\u001b[38;5;132;01m{\u001b[39;00m\u001b[38;5;28mlen\u001b[39m(mlir_function\u001b[38;5;241m.\u001b[39margs)\u001b[38;5;132;01m}\u001b[39;00m\u001b[38;5;124m args but got \u001b[39m\u001b[38;5;132;01m{\u001b[39;00m\u001b[38;5;28mlen\u001b[39m(args)\u001b[38;5;132;01m}\u001b[39;00m\u001b[38;5;124m.\u001b[39m\u001b[38;5;124m\"\u001b[39m\n\u001b[1;32m    841\u001b[0m     )\n\u001b[1;32m    842\u001b[0m encoded_args \u001b[38;5;241m=\u001b[39m (encoder(arg) \u001b[38;5;28;01mfor\u001b[39;00m arg, encoder \u001b[38;5;129;01min\u001b[39;00m \u001b[38;5;28mzip\u001b[39m(args, encoders))\n\u001b[0;32m--> 843\u001b[0m encoded_args \u001b[38;5;241m=\u001b[39m \u001b[38;5;28;43msum\u001b[39;49m\u001b[43m(\u001b[49m\u001b[43mencoded_args\u001b[49m\u001b[43m,\u001b[49m\u001b[43m \u001b[49m\u001b[43m[\u001b[49m\u001b[43m]\u001b[49m\u001b[43m)\u001b[49m\n\u001b[1;32m    844\u001b[0m encoded_result \u001b[38;5;241m=\u001b[39m c_callable(\u001b[38;5;241m*\u001b[39mencoded_args)\n\u001b[1;32m    845\u001b[0m result \u001b[38;5;241m=\u001b[39m decoder(encoded_result)\n",
      "File \u001b[0;32m~/code/mlir-graphblas/mlir_graphblas/engine.py:842\u001b[0m, in \u001b[0;36m<genexpr>\u001b[0;34m(.0)\u001b[0m\n\u001b[1;32m    838\u001b[0m \u001b[38;5;28;01mif\u001b[39;00m \u001b[38;5;28mlen\u001b[39m(args) \u001b[38;5;241m!=\u001b[39m \u001b[38;5;28mlen\u001b[39m(mlir_function\u001b[38;5;241m.\u001b[39margs):\n\u001b[1;32m    839\u001b[0m     \u001b[38;5;28;01mraise\u001b[39;00m \u001b[38;5;167;01mValueError\u001b[39;00m(\n\u001b[1;32m    840\u001b[0m         \u001b[38;5;124mf\u001b[39m\u001b[38;5;124m\"\u001b[39m\u001b[38;5;132;01m{\u001b[39;00mname\u001b[38;5;132;01m}\u001b[39;00m\u001b[38;5;124m expected \u001b[39m\u001b[38;5;132;01m{\u001b[39;00m\u001b[38;5;28mlen\u001b[39m(mlir_function\u001b[38;5;241m.\u001b[39margs)\u001b[38;5;132;01m}\u001b[39;00m\u001b[38;5;124m args but got \u001b[39m\u001b[38;5;132;01m{\u001b[39;00m\u001b[38;5;28mlen\u001b[39m(args)\u001b[38;5;132;01m}\u001b[39;00m\u001b[38;5;124m.\u001b[39m\u001b[38;5;124m\"\u001b[39m\n\u001b[1;32m    841\u001b[0m     )\n\u001b[0;32m--> 842\u001b[0m encoded_args \u001b[38;5;241m=\u001b[39m (\u001b[43mencoder\u001b[49m\u001b[43m(\u001b[49m\u001b[43marg\u001b[49m\u001b[43m)\u001b[49m \u001b[38;5;28;01mfor\u001b[39;00m arg, encoder \u001b[38;5;129;01min\u001b[39;00m \u001b[38;5;28mzip\u001b[39m(args, encoders))\n\u001b[1;32m    843\u001b[0m encoded_args \u001b[38;5;241m=\u001b[39m \u001b[38;5;28msum\u001b[39m(encoded_args, [])\n\u001b[1;32m    844\u001b[0m encoded_result \u001b[38;5;241m=\u001b[39m c_callable(\u001b[38;5;241m*\u001b[39mencoded_args)\n",
      "File \u001b[0;32m~/code/mlir-graphblas/mlir_graphblas/engine.py:484\u001b[0m, in \u001b[0;36minput_scalar_to_ctypes.<locals>.encoder\u001b[0;34m(arg)\u001b[0m\n\u001b[1;32m    482\u001b[0m     can_cast \u001b[38;5;241m=\u001b[39m \u001b[38;5;28;01mFalse\u001b[39;00m\n\u001b[1;32m    483\u001b[0m \u001b[38;5;28;01mif\u001b[39;00m \u001b[38;5;129;01mnot\u001b[39;00m can_cast:\n\u001b[0;32m--> 484\u001b[0m     \u001b[38;5;28;01mraise\u001b[39;00m \u001b[38;5;167;01mTypeError\u001b[39;00m(\u001b[38;5;124mf\u001b[39m\u001b[38;5;124m\"\u001b[39m\u001b[38;5;132;01m{\u001b[39;00m\u001b[38;5;28mrepr\u001b[39m(arg)\u001b[38;5;132;01m}\u001b[39;00m\u001b[38;5;124m cannot be cast to \u001b[39m\u001b[38;5;132;01m{\u001b[39;00mnp_type\u001b[38;5;132;01m}\u001b[39;00m\u001b[38;5;124m\"\u001b[39m)\n\u001b[1;32m    485\u001b[0m \u001b[38;5;28;01mif\u001b[39;00m \u001b[38;5;129;01mnot\u001b[39;00m \u001b[38;5;28misinstance\u001b[39m(arg, (np\u001b[38;5;241m.\u001b[39mnumber, \u001b[38;5;28mint\u001b[39m, \u001b[38;5;28mfloat\u001b[39m)):\n\u001b[1;32m    486\u001b[0m     \u001b[38;5;28;01mraise\u001b[39;00m \u001b[38;5;167;01mTypeError\u001b[39;00m(\n\u001b[1;32m    487\u001b[0m         \u001b[38;5;124mf\u001b[39m\u001b[38;5;124m\"\u001b[39m\u001b[38;5;132;01m{\u001b[39;00m\u001b[38;5;28mrepr\u001b[39m(arg)\u001b[38;5;132;01m}\u001b[39;00m\u001b[38;5;124m is expected to be a scalar with dtype \u001b[39m\u001b[38;5;132;01m{\u001b[39;00mnp_type\u001b[38;5;132;01m}\u001b[39;00m\u001b[38;5;124m\"\u001b[39m\n\u001b[1;32m    488\u001b[0m     )\n",
      "\u001b[0;31mTypeError\u001b[0m: 9999 cannot be cast to <class 'numpy.int8'>"
     ]
    }
   ],
   "source": [
    "scalar_add_i8(9999, 9999)"
   ]
  },
  {
   "cell_type": "markdown",
   "id": "absent-shooting",
   "metadata": {},
   "source": [
    "We get an exception! There's some input and output type checking that takes place in compiled callables, so there's some safety provided by the JIT Engine."
   ]
  }
 ],
 "metadata": {
  "kernelspec": {
   "display_name": "Python 3 (ipykernel)",
   "language": "python",
   "name": "python3"
  },
  "language_info": {
   "codemirror_mode": {
    "name": "ipython",
    "version": 3
   },
   "file_extension": ".py",
   "mimetype": "text/x-python",
   "name": "python",
   "nbconvert_exporter": "python",
   "pygments_lexer": "ipython3",
   "version": "3.8.12"
  }
 },
 "nbformat": 4,
 "nbformat_minor": 5
}
